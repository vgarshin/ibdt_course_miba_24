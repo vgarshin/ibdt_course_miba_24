{
 "cells": [
  {
   "cell_type": "markdown",
   "id": "426a72dd",
   "metadata": {},
   "source": [
    "# Introduction to Big Data Modern Technologies course"
   ]
  },
  {
   "cell_type": "markdown",
   "id": "a5746ec7",
   "metadata": {},
   "source": [
    "## FINAL PROJECT: lab work\n",
    "### Part 1. Object storage and database pipeline (Spark)"
   ]
  },
  {
   "cell_type": "markdown",
   "id": "13598f49",
   "metadata": {},
   "source": [
    "### 1. Libraries and credentials"
   ]
  },
  {
   "cell_type": "code",
   "execution_count": null,
   "id": "06d60c75",
   "metadata": {},
   "outputs": [],
   "source": [
    "import os\n",
    "import io\n",
    "import sys\n",
    "import json\n",
    "import boto3\n",
    "import logging\n",
    "import psycopg2\n",
    "import requests\n",
    "import datetime\n",
    "import multiprocessing\n",
    "import numpy as np\n",
    "import pandas as pd\n",
    "import matplotlib.pyplot as plt\n",
    "from pyspark import SparkContext, SparkConf\n",
    "from pyspark.sql import SparkSession\n",
    "from pyspark.sql import functions as F\n",
    "from pyspark.sql.types import *\n",
    "from pyspark.sql.functions import udf, struct, countDistinct"
   ]
  },
  {
   "cell_type": "code",
   "execution_count": null,
   "id": "b6b4fc73",
   "metadata": {},
   "outputs": [],
   "source": [
    "def access_data(file_path):\n",
    "    with open(file_path) as file:\n",
    "        access_data = json.load(file)\n",
    "    return access_data\n",
    "\n",
    "creds = access_data(file_path='access_bucket.json')\n",
    "print(creds.keys())"
   ]
  },
  {
   "cell_type": "markdown",
   "id": "a69d3623",
   "metadata": {},
   "source": [
    "### 2. Browse files at S3"
   ]
  },
  {
   "cell_type": "code",
   "execution_count": null,
   "id": "e4c68a87",
   "metadata": {},
   "outputs": [],
   "source": [
    "session = boto3.session.Session()\n",
    "s3 = session.client(\n",
    "    service_name='s3',\n",
    "    aws_access_key_id=creds['aws_access_key_id'],\n",
    "    aws_secret_access_key=creds['aws_secret_access_key'],\n",
    "    endpoint_url='https://storage.yandexcloud.net'\n",
    ")"
   ]
  },
  {
   "cell_type": "code",
   "execution_count": null,
   "id": "c87b5dab",
   "metadata": {},
   "outputs": [],
   "source": [
    "DATA_BUCKET = creds['name']"
   ]
  },
  {
   "cell_type": "code",
   "execution_count": null,
   "id": "d498dcf3",
   "metadata": {},
   "outputs": [],
   "source": [
    "all_files = [key['Key'] for key in s3.list_objects(Bucket=DATA_BUCKET)['Contents']]\n",
    "print('files in storage:', all_files[:10]) # works only for num of files < 1000"
   ]
  },
  {
   "cell_type": "markdown",
   "id": "9e46a5c8",
   "metadata": {},
   "source": [
    "### 3. Connection to database"
   ]
  },
  {
   "cell_type": "markdown",
   "id": "f3c90f01",
   "metadata": {},
   "source": [
    "##### <font color='blue'>ClickHouse</font>"
   ]
  },
  {
   "cell_type": "code",
   "execution_count": null,
   "id": "750e8ff0",
   "metadata": {},
   "outputs": [],
   "source": [
    "PATH_TO_JAR = '/home/jovyan/__DATA/IBDT_Spring_2024/topic_labs/jars/clickhouse-jdbc-0.4.0-shaded.jar'\n",
    "CLICKHOUSE_JAR = f'file://{PATH_TO_JAR}'"
   ]
  },
  {
   "cell_type": "code",
   "execution_count": null,
   "id": "8fec182b",
   "metadata": {},
   "outputs": [],
   "source": [
    "def execute_query(query, access_ch, data=None):\n",
    "    url = 'https://{host}:{port}/'.format(\n",
    "        host=access_ch['host'],\n",
    "        port=access_ch['port']\n",
    "    )\n",
    "    params = {\n",
    "        'database': access_ch['dbname'],\n",
    "        'query': query.strip()\n",
    "    }\n",
    "    auth = {\n",
    "        'X-ClickHouse-User': access_ch['user'],\n",
    "        'X-ClickHouse-Key': access_ch['password']\n",
    "    }\n",
    "    rs = requests.post(\n",
    "        url, \n",
    "        params=params, \n",
    "        headers=auth, \n",
    "        data=data,\n",
    "        verify=f'/home/jovyan/__DATA/IBDT_Spring_2024/topic_labs/{access_ch[\"sslrootcert\"]}'\n",
    "    )\n",
    "    return rs"
   ]
  },
  {
   "cell_type": "code",
   "execution_count": null,
   "id": "41182f2f",
   "metadata": {},
   "outputs": [],
   "source": [
    "access_ch = access_data('access_ch.json')\n",
    "print(access_ch.keys())"
   ]
  },
  {
   "cell_type": "code",
   "execution_count": null,
   "id": "efe2be97",
   "metadata": {},
   "outputs": [],
   "source": [
    "query = '''\n",
    "SELECT version()\n",
    "'''\n",
    "rs = execute_query(query, access_ch)\n",
    "rs.text"
   ]
  },
  {
   "cell_type": "markdown",
   "id": "406d1991",
   "metadata": {},
   "source": [
    "##### <font color='green'>PostgreSQL</font>"
   ]
  },
  {
   "cell_type": "code",
   "execution_count": null,
   "id": "9c0ee5b3",
   "metadata": {},
   "outputs": [],
   "source": [
    "access_postgres = access_data('access_postgres.json')\n",
    "print(access_postgres.keys())"
   ]
  },
  {
   "cell_type": "code",
   "execution_count": null,
   "id": "a24510cf",
   "metadata": {},
   "outputs": [],
   "source": [
    "def send_query(query, access_postgres, res=False):\n",
    "    result = None\n",
    "    with psycopg2.connect(\n",
    "        host=access_postgres['host'],\n",
    "        port=access_postgres['port'],\n",
    "        dbname=access_postgres['dbname'],\n",
    "        user=access_postgres['user'],\n",
    "        password=access_postgres['password'],\n",
    "        target_session_attrs='read-write',\n",
    "        sslmode='verify-full',\n",
    "        sslrootcert=f'/home/jovyan/__DATA/IBDT_Spring_2024/topic_labs/{access_postgres[\"sslrootcert\"]}'\n",
    "        ) as conn:\n",
    "            with conn.cursor() as cur:\n",
    "                cur.execute(query)\n",
    "                if res:\n",
    "                    result = cur.fetchall()\n",
    "    return result"
   ]
  },
  {
   "cell_type": "code",
   "execution_count": null,
   "id": "d6b0ddde",
   "metadata": {},
   "outputs": [],
   "source": [
    "query = '''\n",
    "SELECT version()\n",
    "'''\n",
    "send_query(query, access_postgres, res=True)"
   ]
  },
  {
   "cell_type": "markdown",
   "id": "b8bb511f",
   "metadata": {},
   "source": [
    "### 4. Data preprocessing with Spark"
   ]
  },
  {
   "cell_type": "code",
   "execution_count": null,
   "id": "d3fe654c",
   "metadata": {},
   "outputs": [],
   "source": [
    "# web UI for the Spark\n",
    "\n",
    "def uiWebUrl(self):\n",
    "    from urllib.parse import urlparse\n",
    "    web_url = self._jsc.sc().uiWebUrl().get()\n",
    "    port = urlparse(web_url).port\n",
    "    return '{}proxy/{}/jobs/'.format(os.environ['JUPYTERHUB_SERVICE_PREFIX'], port)\n",
    "\n",
    "SparkContext.uiWebUrl = property(uiWebUrl)\n",
    "\n",
    "# Spark settings\n",
    "conf = SparkConf()\n",
    "conf.set('spark.master', 'local[*]')    # max 5 cores available, use `local[*]` for all cores\n",
    "conf.set('spark.driver.memory', '16G')  # max 16 GB available\n",
    "conf.set('spark.driver.maxResultSize', '4G')\n",
    "conf.set('spark.driver.extraClassPath', CLICKHOUSE_JAR) # CH connect\n",
    "sc = SparkContext(conf=conf)\n",
    "spark = SparkSession(sc)\n",
    "\n",
    "# Spark's access for object storage settings\n",
    "spark._jsc.hadoopConfiguration().set('fs.s3a.access.key', creds['aws_access_key_id'])\n",
    "spark._jsc.hadoopConfiguration().set('fs.s3a.secret.key', creds['aws_secret_access_key'])\n",
    "spark._jsc.hadoopConfiguration().set('fs.s3a.impl','org.apache.hadoop.fs.s3a.S3AFileSystem')\n",
    "spark._jsc.hadoopConfiguration().set('fs.s3a.multipart.size', '104857600')\n",
    "spark._jsc.hadoopConfiguration().set('fs.s3a.block.size', '33554432')\n",
    "spark._jsc.hadoopConfiguration().set('fs.s3a.threads.max', '256')\n",
    "spark._jsc.hadoopConfiguration().set('fs.s3a.endpoint', 'http://storage.yandexcloud.net')\n",
    "spark._jsc.hadoopConfiguration().set('fs.s3a.aws.credentials.provider', \n",
    "                                     'org.apache.hadoop.fs.s3a.SimpleAWSCredentialsProvider')\n",
    "\n",
    "spark"
   ]
  },
  {
   "cell_type": "markdown",
   "id": "24511f81",
   "metadata": {},
   "source": [
    "#### 4.1. Read data with Spark"
   ]
  },
  {
   "cell_type": "code",
   "execution_count": null,
   "id": "be1dacf7",
   "metadata": {},
   "outputs": [],
   "source": [
    "sdf = spark.read.csv(\n",
    "    f's3a://{DATA_BUCKET}/jhub_logs_prj.csv',\n",
    "    sep=';', \n",
    "    header=True,\n",
    "    multiLine=True, # if you have `\\n` symbols\n",
    "    escape=\"\\\"\"\n",
    ")\n",
    "sdf.printSchema()"
   ]
  },
  {
   "cell_type": "code",
   "execution_count": null,
   "id": "6ab72271",
   "metadata": {},
   "outputs": [],
   "source": [
    "sdf.show(5)"
   ]
  },
  {
   "cell_type": "markdown",
   "id": "195129e1",
   "metadata": {},
   "source": [
    "#### 4.2. Kubernetes logs"
   ]
  },
  {
   "cell_type": "code",
   "execution_count": null,
   "id": "8606a1f5",
   "metadata": {},
   "outputs": [],
   "source": [
    "def row_info(rin):\n",
    "    \"\"\"\n",
    "    Extracts names of:\n",
    "      - docker image\n",
    "      - id of the Jupyter application\n",
    "      - name of the host, where Jupyter runs\n",
    "    \n",
    "    \"\"\"\n",
    "    img = rin[rin.find('container_image='):].split('\\'')[1]\n",
    "    hub = rin[rin.find('pod_name='):].split('\\'')[1]\n",
    "    host = rin[rin.find('host='):].split('\\'')[1]\n",
    "    return img, hub, host"
   ]
  },
  {
   "cell_type": "code",
   "execution_count": null,
   "id": "a98469b4",
   "metadata": {},
   "outputs": [],
   "source": [
    "udf_row_info = udf(row_info, ArrayType(StringType()))"
   ]
  },
  {
   "cell_type": "code",
   "execution_count": null,
   "id": "604ae64a",
   "metadata": {},
   "outputs": [],
   "source": [
    "sdf = sdf.withColumn('kubernetes_msg', udf_row_info('kubernetes'))\n",
    "sdf.limit(5).toPandas()"
   ]
  },
  {
   "cell_type": "code",
   "execution_count": null,
   "id": "edc36591",
   "metadata": {},
   "outputs": [],
   "source": [
    "sdf = sdf.select(\n",
    "    'date',\n",
    "    F.col('kubernetes_msg')[0].alias('img'),\n",
    "    F.col('kubernetes_msg')[1].alias('hub'),\n",
    "    F.col('kubernetes_msg')[2].alias('host'),\n",
    "    'log',\n",
    "    'stream',\n",
    "    'time'\n",
    ")\n",
    "sdf.limit(5).toPandas()"
   ]
  },
  {
   "cell_type": "markdown",
   "id": "75a82473",
   "metadata": {},
   "source": [
    "#### 4.3. JupyterHub logs"
   ]
  },
  {
   "cell_type": "code",
   "execution_count": null,
   "id": "38236bc5",
   "metadata": {},
   "outputs": [],
   "source": [
    "def sq_brackets(sin):\n",
    "    \"\"\"\n",
    "    Split log string amd extracts:\n",
    "      - timestamp of the event\n",
    "      - name of application\n",
    "      - type of logs\n",
    "      - code of event\n",
    "      - description\n",
    "    \n",
    "    \"\"\"\n",
    "    try:\n",
    "        s = sin.split('[', 1)[1].split(']')[0]\n",
    "        msg = sin[len(s) + 2 :].strip()\n",
    "        s = s.split()\n",
    "        head = s[0]\n",
    "        ts = ' '.join(s[1:3])\n",
    "        svc = s[3]\n",
    "        typ = s[4].split(':')[0]\n",
    "        code = s[4].split(':')[1]\n",
    "    except:\n",
    "        head, ts, svc, typ, code = '', '', '', '', ''\n",
    "        msg = sin\n",
    "    return head, ts, svc, typ, code, msg"
   ]
  },
  {
   "cell_type": "code",
   "execution_count": null,
   "id": "8e23286e",
   "metadata": {},
   "outputs": [],
   "source": [
    "udf_sq_brackets = udf(sq_brackets, ArrayType(StringType()))"
   ]
  },
  {
   "cell_type": "code",
   "execution_count": null,
   "id": "285fbe27",
   "metadata": {},
   "outputs": [],
   "source": [
    "sdf = sdf.withColumn('log_msg', udf_sq_brackets('log'))\n",
    "sdf.limit(5).toPandas()"
   ]
  },
  {
   "cell_type": "code",
   "execution_count": null,
   "id": "4be1040f",
   "metadata": {},
   "outputs": [],
   "source": [
    "sdf = sdf.select(\n",
    "    'img',\n",
    "    'hub',\n",
    "    'host',\n",
    "    F.col('log_msg')[0].alias('head'),\n",
    "    F.col('log_msg')[1].alias('timestamp'),\n",
    "    F.col('log_msg')[2].alias('service'),\n",
    "    F.col('log_msg')[3].alias('event_type'),\n",
    "    F.col('log_msg')[4].alias('event_code'),\n",
    "    F.col('log_msg')[5].alias('message')\n",
    ")\n",
    "sdf.limit(5).toPandas()"
   ]
  },
  {
   "cell_type": "markdown",
   "id": "0288d910",
   "metadata": {},
   "source": [
    "#### 4.4. Find users' activities"
   ]
  },
  {
   "cell_type": "code",
   "execution_count": null,
   "id": "48a4a260",
   "metadata": {},
   "outputs": [],
   "source": [
    "def parce_users_activities(code, msg):\n",
    "    \"\"\"\n",
    "    Ugly function.\n",
    "    \n",
    "    You may use dictionary to make it\n",
    "    more pythonic or something else.\n",
    "    \n",
    "    \"\"\"\n",
    "    if code in ['43', '44']:\n",
    "        user = msg.split()[-1]\n",
    "        log = 'logged out'\n",
    "    elif code in ['61', '85', '111']:\n",
    "        user = msg.split()[3]\n",
    "        log = 'spawning sever with advanced configuration option'\n",
    "    elif code == '148':\n",
    "        user = msg.split()[-1]\n",
    "        log = 'user is running'\n",
    "    elif code == '167':\n",
    "        user = msg.split()[1]\n",
    "        log = 'server is already active'\n",
    "    if code == '238':\n",
    "        user = msg.split()[-1]\n",
    "        log = 'adding role for user'\n",
    "    elif code in ['257', '333']:\n",
    "        user = msg.split()[2]\n",
    "        log = 'adding user to proxy'\n",
    "    elif code in ['281', '359']:\n",
    "        user = msg.split()[2]\n",
    "        log = 'removing user from proxy'\n",
    "    elif code == '361':\n",
    "        user = msg.split()[1]\n",
    "        log = 'user requested new auth token'\n",
    "    elif code == '380':\n",
    "        user = msg.split()[3]\n",
    "        log = 'previous spawn failed'\n",
    "    elif code in ['402', '394']:\n",
    "        user = msg.split()[0]\n",
    "        log = 'pending spawn'\n",
    "    elif code == '567':\n",
    "        user = msg.split('/')[4]\n",
    "        log = 'stream closed while handling '\n",
    "    elif code == '626':\n",
    "        user = msg.split()[1]\n",
    "        log = 'server is already started'\n",
    "    elif code == '651':\n",
    "        user = msg.split('-')[2]\n",
    "        log = 'creating oauth client for user'\n",
    "    elif code in ['664', '749']:\n",
    "        user = msg.split()[1]\n",
    "        log = 'server is ready'\n",
    "    elif code == '681':\n",
    "        user = msg.split()[0].replace('\\'s', '')\n",
    "        log = 'server failed to start'\n",
    "    elif code == '689':\n",
    "        user = msg.split()[3].replace('\\'s', '')\n",
    "        log = 'unhandled error starting with timeout'\n",
    "    elif code == '738':\n",
    "        user = msg.split()[0].replace(',', '').replace('\\'s', '')\n",
    "        log = 'server never showed up and giving up'\n",
    "    elif code in ['757', '810']:\n",
    "        user = msg.split()[-1]\n",
    "        log = 'logged in'\n",
    "    elif code in ['904', '963']:\n",
    "        user = msg.split()[1]\n",
    "        log = 'server took time to start'\n",
    "    elif code in ['1067', '2022']:\n",
    "        user = msg.split()[1]\n",
    "        log = 'user server stopped with exit code 1'\n",
    "    elif code in ['1110', '1170']:\n",
    "        user = msg.split()[1]\n",
    "        log = 'server took time to stop'\n",
    "    elif code in ['1143', '1203']:\n",
    "        user = msg.split()[1].replace(':', '')\n",
    "        log = 'server is slow to stop'\n",
    "    elif code in ['1344', '1409']:\n",
    "        user = msg.split('/')[3]\n",
    "        log = 'failing suspected api request to not-running server'\n",
    "    elif code in ['1143', '1203']:\n",
    "        user = msg.split()[1].replace('/', '')\n",
    "        log = 'server is slow to stop'\n",
    "    elif code == '1415':\n",
    "        user = msg.split()[-1]\n",
    "        log = 'admin requesting spawn on behalf'\n",
    "    elif code == '1437':\n",
    "        user = msg.split()[1]\n",
    "        log = 'user requested server which user do not own'\n",
    "    elif code == '1840':\n",
    "        user = msg.split()[4].replace('jupyter-', '').replace(',', '')\n",
    "        log = 'attempting to create pod with timeout'\n",
    "    elif code == '1857':\n",
    "        user = msg.split()[3].replace('jupyter-', '').replace(',', '')\n",
    "        log = 'found existing pod and attempting to kill'\n",
    "    elif code == '1861':\n",
    "        user = msg.split()[2].replace('jupyter-', '').replace(',', '')\n",
    "        log = 'killed pod and will try starting singleuser pod again'\n",
    "    elif code in ['1875', '2469', '2509']:\n",
    "        user = msg.split()[4].replace('claim-', '').replace('jupyter-', '').replace(',', '')\n",
    "        log = 'attempt to create pvc with timeout'\n",
    "    elif code in ['1887', '2525']:\n",
    "        user = msg.split()[1].replace('claim-', '')\n",
    "        log = 'pvc already exists'\n",
    "    elif code in ['1961', '2044']:\n",
    "        user = msg.split()[1].replace('jupyter-', '')\n",
    "        log = 'restarting pod reflector'\n",
    "    elif code in ['1997', '2780']:\n",
    "        user = msg.split('-')[-1]\n",
    "        log = 'deleting pod'\n",
    "    elif code == '2069':\n",
    "        user = msg.split()[0].replace(',', '')\n",
    "        log = 'user does not appear to be running and shutting it down'  \n",
    "    elif code in ['2077', '2504']:\n",
    "        user = msg.split()[0]\n",
    "        log = 'still running'\n",
    "    elif code == '2085':\n",
    "        user = msg.split()[0]\n",
    "        log = 'server appears to have stopped while the hub was down'\n",
    "    elif code == '2170':\n",
    "        user = msg.split('-')[-1]\n",
    "        log = 'deleting oauth client'\n",
    "    else:\n",
    "        user, log = '', ''\n",
    "    return user, log"
   ]
  },
  {
   "cell_type": "code",
   "execution_count": null,
   "id": "a7657b68",
   "metadata": {},
   "outputs": [],
   "source": [
    "udf_parce_users_activities = udf(parce_users_activities, ArrayType(StringType()))"
   ]
  },
  {
   "cell_type": "code",
   "execution_count": null,
   "id": "26d72b47",
   "metadata": {},
   "outputs": [],
   "source": [
    "sdf = sdf.withColumn('user_act', udf_parce_users_activities(sdf['event_code'], sdf['message']))\n",
    "sdf.limit(5).toPandas()"
   ]
  },
  {
   "cell_type": "code",
   "execution_count": null,
   "id": "36dc8c26",
   "metadata": {},
   "outputs": [],
   "source": [
    "sdf = sdf.select(\n",
    "    'timestamp',\n",
    "    'hub',\n",
    "    'img',\n",
    "    'host',\n",
    "    'event_code',\n",
    "    'event_type',\n",
    "    F.col('user_act')[1].alias('log'),\n",
    "    F.col('user_act')[0].alias('user')\n",
    ")\n",
    "sdf.limit(5).toPandas()"
   ]
  },
  {
   "cell_type": "code",
   "execution_count": null,
   "id": "05e3610c",
   "metadata": {},
   "outputs": [],
   "source": [
    "sdf = sdf.filter(sdf.user != '')\n",
    "sdf = sdf.withColumn(\n",
    "    'timestamp',\n",
    "    F.to_timestamp('timestamp', 'yyyy-MM-dd HH:mm:ss.SSS')\n",
    ")\n",
    "sdf.limit(5).toPandas()"
   ]
  },
  {
   "cell_type": "markdown",
   "id": "c05bc5d0",
   "metadata": {},
   "source": [
    "### 5. Normalize data and write to database"
   ]
  },
  {
   "cell_type": "markdown",
   "id": "949bd6d1",
   "metadata": {},
   "source": [
    "#### 5.1. Users table"
   ]
  },
  {
   "cell_type": "code",
   "execution_count": null,
   "id": "109762bb",
   "metadata": {},
   "outputs": [],
   "source": [
    "logins = sdf.select('user').distinct().collect()\n",
    "print(len(logins))\n",
    "logins = [list(x)[0] for x in logins]\n",
    "logins[:5]"
   ]
  },
  {
   "cell_type": "code",
   "execution_count": null,
   "id": "3e7e80e0",
   "metadata": {},
   "outputs": [],
   "source": [
    "!pip install names"
   ]
  },
  {
   "cell_type": "code",
   "execution_count": null,
   "id": "d9b4a8f3",
   "metadata": {},
   "outputs": [],
   "source": [
    "import names"
   ]
  },
  {
   "cell_type": "code",
   "execution_count": null,
   "id": "d2ce31b9",
   "metadata": {},
   "outputs": [],
   "source": [
    "users = []\n",
    "for login in logins:\n",
    "    user = {}\n",
    "    user['login'] = login\n",
    "    user['name'] = names.get_full_name()\n",
    "    user['email'] = login + '@gsom.spbu.ru'\n",
    "    users.append(user)"
   ]
  },
  {
   "cell_type": "code",
   "execution_count": null,
   "id": "34ecb7b6",
   "metadata": {},
   "outputs": [],
   "source": [
    "rdd = sc.parallelize([users])\n",
    "sdf_users = spark.read.json(rdd)\n",
    "sdf_users.printSchema()"
   ]
  },
  {
   "cell_type": "code",
   "execution_count": null,
   "id": "c828d3d8",
   "metadata": {},
   "outputs": [],
   "source": [
    "sdf_users.show(5)"
   ]
  },
  {
   "cell_type": "markdown",
   "id": "12711b0f",
   "metadata": {},
   "source": [
    "##### <font color='blue'>ClickHouse</font>"
   ]
  },
  {
   "cell_type": "code",
   "execution_count": null,
   "id": "dcd49fdf",
   "metadata": {},
   "outputs": [],
   "source": [
    "query = '''\n",
    "DROP TABLE db1.users;\n",
    "'''\n",
    "rs = execute_query(query, access_ch)\n",
    "rs.text"
   ]
  },
  {
   "cell_type": "code",
   "execution_count": null,
   "id": "8925c844",
   "metadata": {},
   "outputs": [],
   "source": [
    "query = '''\n",
    "CREATE TABLE IF NOT EXISTS db1.users (\n",
    "    email String,\n",
    "    login String,\n",
    "    name String\n",
    ") ENGINE = MergeTree\n",
    "ORDER BY email;\n",
    "'''\n",
    "rs = execute_query(query, access_ch)\n",
    "rs"
   ]
  },
  {
   "cell_type": "code",
   "execution_count": null,
   "id": "61c0c206",
   "metadata": {},
   "outputs": [],
   "source": [
    "URL_CH = 'jdbc:clickhouse://{}:{}/{}'.format(\n",
    "    access_ch['host'],\n",
    "    access_ch['port'],\n",
    "    access_ch['dbname']\n",
    ")\n",
    "DRIVER_CH = 'com.clickhouse.jdbc.ClickHouseDriver'"
   ]
  },
  {
   "cell_type": "code",
   "execution_count": null,
   "id": "0a59fb5c",
   "metadata": {},
   "outputs": [],
   "source": [
    "table_name = 'users'\n",
    "\n",
    "sdf_users.write \\\n",
    "    .format('jdbc') \\\n",
    "    .mode('append') \\\n",
    "    .option('url', URL_CH) \\\n",
    "    .option('user', access_ch['user']) \\\n",
    "    .option('password', access_ch['password']) \\\n",
    "    .option('dbtable', table_name) \\\n",
    "    .option('driver', DRIVER_CH) \\\n",
    "    .option('ssl', 1) \\\n",
    "    .option('sslmode', 'strict') \\\n",
    "    .option('sslrootcert', f'/home/jovyan/__DATA/IBDT_Spring_2024/topic_labs/{access_ch[\"sslrootcert\"]}') \\\n",
    "    .save()"
   ]
  },
  {
   "cell_type": "code",
   "execution_count": null,
   "id": "ede4950b",
   "metadata": {},
   "outputs": [],
   "source": [
    "# test query\n",
    "query = '''\n",
    "SELECT * FROM db1.users LIMIT 5;\n",
    "'''\n",
    "rs = execute_query(query, access_ch)\n",
    "print(rs.text)"
   ]
  },
  {
   "cell_type": "markdown",
   "id": "2b533138",
   "metadata": {},
   "source": [
    "##### <font color='green'>PostgreSQL</font>"
   ]
  },
  {
   "cell_type": "code",
   "execution_count": null,
   "id": "9d805f1c",
   "metadata": {},
   "outputs": [],
   "source": [
    "query = '''\n",
    "DROP TABLE IF EXISTS users\n",
    "'''\n",
    "send_query(query, access_postgres)"
   ]
  },
  {
   "cell_type": "code",
   "execution_count": null,
   "id": "ecaeebeb",
   "metadata": {},
   "outputs": [],
   "source": [
    "query = '''\n",
    "CREATE TABLE IF NOT EXISTS users (\n",
    "    email varchar(128),\n",
    "    login varchar(32),\n",
    "    name varchar(128)\n",
    ");\n",
    "'''\n",
    "send_query(query, access_postgres)"
   ]
  },
  {
   "cell_type": "code",
   "execution_count": null,
   "id": "35385062",
   "metadata": {},
   "outputs": [],
   "source": [
    "URL_PG = 'jdbc:postgresql://{}:{}/{}'.format(\n",
    "    access_postgres[\"host\"],\n",
    "    access_postgres[\"port\"],\n",
    "    access_postgres[\"dbname\"]\n",
    ")\n",
    "DRIVER_PG = 'org.postgresql.Driver'"
   ]
  },
  {
   "cell_type": "code",
   "execution_count": null,
   "id": "4aac711f",
   "metadata": {},
   "outputs": [],
   "source": [
    "sdf_users.write\\\n",
    "    .mode('append') \\\n",
    "    .format('jdbc') \\\n",
    "    .option('url', URL_PG) \\\n",
    "    .option('dbtable', table_name) \\\n",
    "    .option('user', access_postgres['user']) \\\n",
    "    .option('password', access_postgres['password']) \\\n",
    "    .option('driver', DRIVER_PG) \\\n",
    "    .option('ssl', True) \\\n",
    "    .option('sslmode', 'require') \\\n",
    "    .save()"
   ]
  },
  {
   "cell_type": "code",
   "execution_count": null,
   "id": "0bdd3388",
   "metadata": {},
   "outputs": [],
   "source": [
    "query = '''\n",
    "SELECT * FROM users LIMIT 5;\n",
    "'''\n",
    "send_query(query, access_postgres, res=True)"
   ]
  },
  {
   "cell_type": "markdown",
   "id": "2209523f",
   "metadata": {},
   "source": [
    "#### 5.2. JupyterHub instances table"
   ]
  },
  {
   "cell_type": "code",
   "execution_count": null,
   "id": "a8b95a52",
   "metadata": {},
   "outputs": [],
   "source": [
    "sdf_instances = sdf.select(\n",
    "    'hub',\n",
    "    'img',\n",
    "    'host'\n",
    ")\n",
    "sdf_instances = sdf_instances.dropDuplicates()"
   ]
  },
  {
   "cell_type": "markdown",
   "id": "dddc9b94",
   "metadata": {},
   "source": [
    "##### <font color='blue'>ClickHouse</font>"
   ]
  },
  {
   "cell_type": "code",
   "execution_count": null,
   "id": "ff1b0d9a",
   "metadata": {},
   "outputs": [],
   "source": [
    "query = '''\n",
    "DROP TABLE db1.instances;\n",
    "'''\n",
    "rs = execute_query(query, access_ch)\n",
    "rs.text"
   ]
  },
  {
   "cell_type": "code",
   "execution_count": null,
   "id": "dde2422d",
   "metadata": {},
   "outputs": [],
   "source": [
    "query = '''\n",
    "CREATE TABLE IF NOT EXISTS db1.instances (\n",
    "    hub String,\n",
    "    img String,\n",
    "    host String\n",
    ") ENGINE = MergeTree\n",
    "ORDER BY hub;\n",
    "'''\n",
    "rs = execute_query(query, access_ch)\n",
    "rs"
   ]
  },
  {
   "cell_type": "code",
   "execution_count": null,
   "id": "26ba5cbb",
   "metadata": {},
   "outputs": [],
   "source": [
    "table_name = 'instances'\n",
    "\n",
    "sdf_instances.write \\\n",
    "    .format('jdbc') \\\n",
    "    .mode('append') \\\n",
    "    .option('url', URL_CH) \\\n",
    "    .option('user', access_ch['user']) \\\n",
    "    .option('password', access_ch['password']) \\\n",
    "    .option('dbtable', table_name) \\\n",
    "    .option('driver', DRIVER_CH) \\\n",
    "    .option('ssl', 1) \\\n",
    "    .option('sslmode', 'strict') \\\n",
    "    .option('sslrootcert', f'/home/jovyan/__DATA/IBDT_Spring_2024/topic_labs/{access_ch[\"sslrootcert\"]}') \\\n",
    "    .save()"
   ]
  },
  {
   "cell_type": "code",
   "execution_count": null,
   "id": "22571f60",
   "metadata": {},
   "outputs": [],
   "source": [
    "# test query\n",
    "query = '''\n",
    "SELECT * FROM db1.instances LIMIT 5;\n",
    "'''\n",
    "rs = execute_query(query, access_ch)\n",
    "print(rs.text)"
   ]
  },
  {
   "cell_type": "markdown",
   "id": "f2d917e4",
   "metadata": {},
   "source": [
    "##### <font color='green'>PostgreSQL</font>"
   ]
  },
  {
   "cell_type": "code",
   "execution_count": null,
   "id": "aa9f2a09",
   "metadata": {},
   "outputs": [],
   "source": [
    "query = '''\n",
    "DROP TABLE IF EXISTS instances\n",
    "'''\n",
    "send_query(query, access_postgres)"
   ]
  },
  {
   "cell_type": "code",
   "execution_count": null,
   "id": "be0e4e10",
   "metadata": {},
   "outputs": [],
   "source": [
    "query = '''\n",
    "CREATE TABLE IF NOT EXISTS instances (\n",
    "    hub varchar(64),\n",
    "    img varchar(64),\n",
    "    host varchar(64)\n",
    ");\n",
    "'''\n",
    "send_query(query, access_postgres)"
   ]
  },
  {
   "cell_type": "code",
   "execution_count": null,
   "id": "cb57704c",
   "metadata": {},
   "outputs": [],
   "source": [
    "sdf_instances.write\\\n",
    "    .mode('append') \\\n",
    "    .format('jdbc') \\\n",
    "    .option('url', URL_PG) \\\n",
    "    .option('dbtable', table_name) \\\n",
    "    .option('user', access_postgres['user']) \\\n",
    "    .option('password', access_postgres['password']) \\\n",
    "    .option('driver', DRIVER_PG) \\\n",
    "    .option('ssl', True) \\\n",
    "    .option('sslmode', 'require') \\\n",
    "    .save()"
   ]
  },
  {
   "cell_type": "code",
   "execution_count": null,
   "id": "16ea2f9b",
   "metadata": {},
   "outputs": [],
   "source": [
    "query = '''\n",
    "SELECT * FROM instances LIMIT 5;\n",
    "'''\n",
    "send_query(query, access_postgres, res=True)"
   ]
  },
  {
   "cell_type": "markdown",
   "id": "1be595fa",
   "metadata": {},
   "source": [
    "#### 5.3. JupyterHub logs table"
   ]
  },
  {
   "cell_type": "code",
   "execution_count": null,
   "id": "1a6c9f21",
   "metadata": {},
   "outputs": [],
   "source": [
    "sdf_logs = sdf.select(\n",
    "    'timestamp',\n",
    "    'hub',\n",
    "    'event_code',\n",
    "    'event_type',\n",
    "    'log',\n",
    "    F.col('user').alias('login')\n",
    ")\n",
    "sdf_logs = sdf_logs.dropDuplicates()"
   ]
  },
  {
   "cell_type": "markdown",
   "id": "c054e6e0",
   "metadata": {},
   "source": [
    "##### <font color='blue'>ClickHouse</font>"
   ]
  },
  {
   "cell_type": "code",
   "execution_count": null,
   "id": "28934e89",
   "metadata": {},
   "outputs": [],
   "source": [
    "query = '''\n",
    "DROP TABLE db1.logs;\n",
    "'''\n",
    "rs = execute_query(query, access_ch)\n",
    "rs.text"
   ]
  },
  {
   "cell_type": "code",
   "execution_count": null,
   "id": "9398ae0c",
   "metadata": {},
   "outputs": [],
   "source": [
    "query = '''\n",
    "CREATE TABLE IF NOT EXISTS db1.logs (\n",
    "    timestamp DateTime,\n",
    "    hub String,\n",
    "    event_code Int32,\n",
    "    event_type String,\n",
    "    log String,\n",
    "    login String\n",
    ") ENGINE = MergeTree\n",
    "ORDER BY hub;\n",
    "'''\n",
    "rs = execute_query(query, access_ch)\n",
    "rs"
   ]
  },
  {
   "cell_type": "code",
   "execution_count": null,
   "id": "a41cad72",
   "metadata": {},
   "outputs": [],
   "source": [
    "table_name = 'logs'\n",
    "\n",
    "sdf_logs.write \\\n",
    "    .format('jdbc') \\\n",
    "    .mode('append') \\\n",
    "    .option('url', URL_CH) \\\n",
    "    .option('user', access_ch['user']) \\\n",
    "    .option('password', access_ch['password']) \\\n",
    "    .option('dbtable', table_name) \\\n",
    "    .option('driver', DRIVER_CH) \\\n",
    "    .option('ssl', 1) \\\n",
    "    .option('sslmode', 'strict') \\\n",
    "    .option('sslrootcert', f'/home/jovyan/__DATA/IBDT_Spring_2024/topic_labs/{access_ch[\"sslrootcert\"]}') \\\n",
    "    .save()"
   ]
  },
  {
   "cell_type": "code",
   "execution_count": null,
   "id": "b36e7acb",
   "metadata": {},
   "outputs": [],
   "source": [
    "# test query\n",
    "query = '''\n",
    "SELECT * FROM db1.logs LIMIT 5;\n",
    "'''\n",
    "rs = execute_query(query, access_ch)\n",
    "print(rs.text)"
   ]
  },
  {
   "cell_type": "markdown",
   "id": "b828b5a5",
   "metadata": {},
   "source": [
    "##### <font color='green'>PostgreSQL</font>"
   ]
  },
  {
   "cell_type": "code",
   "execution_count": null,
   "id": "aa9b2faf",
   "metadata": {},
   "outputs": [],
   "source": [
    "query = '''\n",
    "DROP TABLE IF EXISTS logs\n",
    "'''\n",
    "send_query(query, access_postgres)"
   ]
  },
  {
   "cell_type": "code",
   "execution_count": null,
   "id": "d078179e",
   "metadata": {},
   "outputs": [],
   "source": [
    "query = '''\n",
    "CREATE TABLE IF NOT EXISTS logs (\n",
    "    timestamp timestamp,\n",
    "    hub varchar(64),\n",
    "    event_code varchar(32),\n",
    "    event_type varchar(64),\n",
    "    log text,\n",
    "    login varchar(32)\n",
    ");\n",
    "'''\n",
    "send_query(query, access_postgres)"
   ]
  },
  {
   "cell_type": "code",
   "execution_count": null,
   "id": "7623ebf8",
   "metadata": {},
   "outputs": [],
   "source": [
    "sdf_logs.write\\\n",
    "    .mode('append') \\\n",
    "    .format('jdbc') \\\n",
    "    .option('url', URL_PG) \\\n",
    "    .option('dbtable', table_name) \\\n",
    "    .option('user', access_postgres['user']) \\\n",
    "    .option('password', access_postgres['password']) \\\n",
    "    .option('driver', DRIVER_PG) \\\n",
    "    .option('ssl', True) \\\n",
    "    .option('sslmode', 'require') \\\n",
    "    .save()"
   ]
  },
  {
   "cell_type": "code",
   "execution_count": null,
   "id": "6d076bd2",
   "metadata": {},
   "outputs": [],
   "source": [
    "query = '''\n",
    "SELECT * FROM logs LIMIT 5;\n",
    "'''\n",
    "send_query(query, access_postgres, res=True)"
   ]
  },
  {
   "cell_type": "markdown",
   "id": "74daf3d1",
   "metadata": {},
   "source": [
    "### 6. How to get data back"
   ]
  },
  {
   "cell_type": "markdown",
   "id": "01af42ea",
   "metadata": {},
   "source": [
    "#### 6.1. Requests and psycopg2 libraries"
   ]
  },
  {
   "cell_type": "markdown",
   "id": "4541512a",
   "metadata": {},
   "source": [
    "##### <font color='blue'>ClickHouse</font>"
   ]
  },
  {
   "cell_type": "code",
   "execution_count": null,
   "id": "858795e0",
   "metadata": {},
   "outputs": [],
   "source": [
    "query = '''\n",
    "SELECT \\\n",
    "    ls.timestamp, \\\n",
    "    ls.event_code, \\\n",
    "    us.login, \\\n",
    "    us.name, \\\n",
    "    us.email, \\\n",
    "    ls.log \\\n",
    "FROM logs AS ls \\\n",
    "LEFT JOIN users AS us ON ls.login = us.login \\\n",
    "LIMIT 5;\n",
    "'''\n",
    "rs = execute_query(query, access_ch)"
   ]
  },
  {
   "cell_type": "code",
   "execution_count": null,
   "id": "3d38b935",
   "metadata": {},
   "outputs": [],
   "source": [
    "rs"
   ]
  },
  {
   "cell_type": "code",
   "execution_count": null,
   "id": "a2f290cd",
   "metadata": {},
   "outputs": [],
   "source": [
    "rs.text"
   ]
  },
  {
   "cell_type": "code",
   "execution_count": null,
   "id": "1a7d3bb8",
   "metadata": {},
   "outputs": [],
   "source": [
    "rs.content"
   ]
  },
  {
   "cell_type": "code",
   "execution_count": null,
   "id": "496e6922",
   "metadata": {},
   "outputs": [],
   "source": [
    "df = pd.read_csv(io.StringIO(rs.text), sep='\\t', header=None)\n",
    "df"
   ]
  },
  {
   "cell_type": "markdown",
   "id": "62ce3c52",
   "metadata": {},
   "source": [
    "##### <font color='green'>PostgreSQL</font>"
   ]
  },
  {
   "cell_type": "code",
   "execution_count": null,
   "id": "d89a46e0",
   "metadata": {},
   "outputs": [],
   "source": [
    "query = '''\n",
    "SELECT \\\n",
    "    ls.timestamp, \\\n",
    "    ls.event_code, \\\n",
    "    us.login, \\\n",
    "    us.name, \\\n",
    "    us.email, \\\n",
    "    ls.log \\\n",
    "FROM logs AS ls \\\n",
    "LEFT JOIN users AS us ON ls.login = us.login \\\n",
    "LIMIT 5;\n",
    "'''\n",
    "send_query(query, access_postgres, res=True)"
   ]
  },
  {
   "cell_type": "markdown",
   "id": "4b77f1b6",
   "metadata": {},
   "source": [
    "#### 6.2. Spark connection"
   ]
  },
  {
   "cell_type": "markdown",
   "id": "29ed0a5c",
   "metadata": {},
   "source": [
    "##### <font color='blue'>ClickHouse</font>"
   ]
  },
  {
   "cell_type": "code",
   "execution_count": null,
   "id": "f6fbb51c",
   "metadata": {},
   "outputs": [],
   "source": [
    "table_name = 'users'\n",
    "\n",
    "sdf_test = spark.read \\\n",
    "    .format('jdbc') \\\n",
    "    .option('url', URL_CH) \\\n",
    "    .option('dbtable', table_name) \\\n",
    "    .option('user', access_ch['user']) \\\n",
    "    .option('password', access_ch['password']) \\\n",
    "    .option('driver', DRIVER_CH) \\\n",
    "    .option('ssl', 1) \\\n",
    "    .option('sslmode', 'strict') \\\n",
    "    .option('sslrootcert', f'/home/jovyan/__DATA/IBDT_Spring_2024/topic_labs/{access_ch[\"sslrootcert\"]}') \\\n",
    "    .load()"
   ]
  },
  {
   "cell_type": "code",
   "execution_count": null,
   "id": "b439d033",
   "metadata": {
    "scrolled": true
   },
   "outputs": [],
   "source": [
    "sdf_test.show(5)"
   ]
  },
  {
   "cell_type": "markdown",
   "id": "768504d2",
   "metadata": {},
   "source": [
    "##### <font color='green'>PostgreSQL</font>"
   ]
  },
  {
   "cell_type": "code",
   "execution_count": null,
   "id": "339382c6",
   "metadata": {},
   "outputs": [],
   "source": [
    "sdf_test = spark.read \\\n",
    "    .format('jdbc') \\\n",
    "    .option('url', URL_PG) \\\n",
    "    .option('dbtable', table_name) \\\n",
    "    .option('user', access_postgres['user']) \\\n",
    "    .option('password', access_postgres['password']) \\\n",
    "    .option('driver', DRIVER_PG) \\\n",
    "    .option('ssl', True) \\\n",
    "    .option('sslmode', 'require') \\\n",
    "    .load()"
   ]
  },
  {
   "cell_type": "code",
   "execution_count": null,
   "id": "097f27ea",
   "metadata": {},
   "outputs": [],
   "source": [
    "sdf_test.show(5)"
   ]
  },
  {
   "cell_type": "markdown",
   "id": "53a0c6fc",
   "metadata": {},
   "source": [
    "#### 6.3. ClickHouse connect"
   ]
  },
  {
   "cell_type": "markdown",
   "id": "241f4d65",
   "metadata": {},
   "source": [
    "[Python packages](https://pypi.org/project/clickhouse-connect/) for connecting Python to ClickHouse."
   ]
  },
  {
   "cell_type": "code",
   "execution_count": null,
   "id": "55cb9138",
   "metadata": {},
   "outputs": [],
   "source": [
    "!pip install clickhouse-connect"
   ]
  },
  {
   "cell_type": "code",
   "execution_count": null,
   "id": "6411cd66",
   "metadata": {},
   "outputs": [],
   "source": [
    "import clickhouse_connect"
   ]
  },
  {
   "cell_type": "code",
   "execution_count": null,
   "id": "50744484",
   "metadata": {},
   "outputs": [],
   "source": [
    "client = clickhouse_connect.get_client(\n",
    "    host=access_ch['host'], \n",
    "    username=access_ch['user'], \n",
    "    password=access_ch['password'],\n",
    "    port=access_ch['port'],\n",
    "    verify=f'/home/jovyan/__DATA/IBDT_Spring_2024/topic_labs/{access_ch[\"sslrootcert\"]}'\n",
    ")"
   ]
  },
  {
   "cell_type": "code",
   "execution_count": null,
   "id": "9116109b",
   "metadata": {},
   "outputs": [],
   "source": [
    "client"
   ]
  },
  {
   "cell_type": "markdown",
   "id": "56dfa555",
   "metadata": {},
   "source": [
    "##### 6.3.1. Queries"
   ]
  },
  {
   "cell_type": "code",
   "execution_count": null,
   "id": "b06f73f7",
   "metadata": {},
   "outputs": [],
   "source": [
    "client.command('SELECT COUNT(*) FROM db1.users')"
   ]
  },
  {
   "cell_type": "code",
   "execution_count": null,
   "id": "0b88bd4d",
   "metadata": {},
   "outputs": [],
   "source": [
    "result = client.query('SELECT * FROM db1.users LIMIT 5')\n",
    "result.result_rows"
   ]
  },
  {
   "cell_type": "code",
   "execution_count": null,
   "id": "b52689c2",
   "metadata": {},
   "outputs": [],
   "source": [
    "parameters = {\n",
    "    'table1': 'logs',\n",
    "    'table2': 'users',\n",
    "    'key': 'login',\n",
    "    'user': 'vgarshin@gsom.spbu.ru'\n",
    "}\n",
    "result = client.query(\n",
    "    \"SELECT COUNT(*) FROM db1.{table1:Identifier} AS ls \\\n",
    "    LEFT JOIN db1.{table2:Identifier} AS us ON ls.{key:Identifier} = us.{key:Identifier} \\\n",
    "    WHERE us.email = {user: String}\",\n",
    "    parameters=parameters\n",
    ")\n",
    "result.result_rows"
   ]
  },
  {
   "cell_type": "markdown",
   "id": "c04e39f6",
   "metadata": {},
   "source": [
    "##### 6.3.2. Insert data"
   ]
  },
  {
   "cell_type": "code",
   "execution_count": null,
   "id": "b79e1f06",
   "metadata": {},
   "outputs": [],
   "source": [
    "row1 = ['test1@gsom.spbu.ru', 'test1', 'Test Number One']\n",
    "row2 = ['test2@gsom.spbu.ru', 'test2', 'Test Number Two']\n",
    "data = [row1, row2]\n",
    "data"
   ]
  },
  {
   "cell_type": "code",
   "execution_count": null,
   "id": "d27f0cde",
   "metadata": {},
   "outputs": [],
   "source": [
    "client.insert(\n",
    "    'db1.users', \n",
    "    data, \n",
    "    column_names=['email', 'login', 'name']\n",
    ")"
   ]
  },
  {
   "cell_type": "code",
   "execution_count": null,
   "id": "30fa5670",
   "metadata": {},
   "outputs": [],
   "source": [
    "result = client.query(\n",
    "    \"SELECT * FROM db1.users WHERE email='test1@gsom.spbu.ru'\", \n",
    "    parameters=parameters\n",
    ")\n",
    "result.result_rows"
   ]
  },
  {
   "cell_type": "code",
   "execution_count": null,
   "id": "d1a31a79",
   "metadata": {},
   "outputs": [],
   "source": [
    "parameters = {\n",
    "    'table': 'users', \n",
    "    'v1': 'Test%'\n",
    "}\n",
    "result = client.query(\n",
    "    'SELECT * FROM db1.{table:Identifier} WHERE name LIKE {v1:String}', \n",
    "    parameters=parameters\n",
    ")\n",
    "result.result_rows"
   ]
  },
  {
   "cell_type": "code",
   "execution_count": null,
   "id": "84c66054",
   "metadata": {},
   "outputs": [],
   "source": []
  }
 ],
 "metadata": {
  "kernelspec": {
   "display_name": "Python 3 (ipykernel)",
   "language": "python",
   "name": "python3"
  },
  "language_info": {
   "codemirror_mode": {
    "name": "ipython",
    "version": 3
   },
   "file_extension": ".py",
   "mimetype": "text/x-python",
   "name": "python",
   "nbconvert_exporter": "python",
   "pygments_lexer": "ipython3",
   "version": "3.9.7"
  },
  "widgets": {
   "application/vnd.jupyter.widget-state+json": {
    "state": {},
    "version_major": 2,
    "version_minor": 0
   }
  }
 },
 "nbformat": 4,
 "nbformat_minor": 5
}
