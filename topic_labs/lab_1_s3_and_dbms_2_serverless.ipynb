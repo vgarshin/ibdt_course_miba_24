{
 "cells": [
  {
   "cell_type": "markdown",
   "id": "14aaf78e",
   "metadata": {},
   "source": [
    "# Introduction to Big Data Modern Technologies course"
   ]
  },
  {
   "cell_type": "markdown",
   "id": "8faa16c5",
   "metadata": {},
   "source": [
    "## FINAL PROJECT: lab work\n",
    "### Part 1. Object storage and database pipeline (Serverless)"
   ]
  },
  {
   "cell_type": "markdown",
   "id": "c6b35c29",
   "metadata": {},
   "source": [
    "### 1. Libraries and credentials"
   ]
  },
  {
   "cell_type": "code",
   "execution_count": null,
   "id": "d54e863a",
   "metadata": {},
   "outputs": [],
   "source": [
    "!pip install pandas\n",
    "!pip install clickhouse-connect\n",
    "!pip install names"
   ]
  },
  {
   "cell_type": "code",
   "execution_count": null,
   "id": "b8b8a477",
   "metadata": {},
   "outputs": [],
   "source": [
    "import os\n",
    "import sys\n",
    "import json\n",
    "import boto3\n",
    "import names\n",
    "import datetime\n",
    "import clickhouse_connect\n",
    "import pandas as pd"
   ]
  },
  {
   "cell_type": "code",
   "execution_count": null,
   "id": "e2851e71",
   "metadata": {},
   "outputs": [],
   "source": [
    "def access_data(file_path):\n",
    "    with open(file_path) as file:\n",
    "        access_data = json.load(file)\n",
    "    return access_data\n",
    "\n",
    "creds = access_data(file_path='access_bucket.json')\n",
    "print(creds.keys())"
   ]
  },
  {
   "cell_type": "markdown",
   "id": "1588bf7c",
   "metadata": {},
   "source": [
    "### 2. Raw data"
   ]
  },
  {
   "cell_type": "code",
   "execution_count": null,
   "id": "73c0575e",
   "metadata": {},
   "outputs": [],
   "source": [
    "session = boto3.session.Session()\n",
    "s3 = session.client(\n",
    "    service_name='s3',\n",
    "    aws_access_key_id=creds['aws_access_key_id'],\n",
    "    aws_secret_access_key=creds['aws_secret_access_key'],\n",
    "    endpoint_url='https://storage.yandexcloud.net'\n",
    ")"
   ]
  },
  {
   "cell_type": "code",
   "execution_count": null,
   "id": "a750a534",
   "metadata": {},
   "outputs": [],
   "source": [
    "DATA_BUCKET = creds['name']"
   ]
  },
  {
   "cell_type": "code",
   "execution_count": null,
   "id": "b4899054",
   "metadata": {},
   "outputs": [],
   "source": [
    "s3.download_file(DATA_BUCKET, 'YandexInternalRootCA.crt', 'YandexInternalRootCA.crt')\n",
    "s3.download_file(DATA_BUCKET, 'access_ch.json', 'access_ch.json')\n",
    "\n",
    "access_ch = access_data('access_ch.json')\n",
    "print(access_ch.keys())"
   ]
  },
  {
   "cell_type": "code",
   "execution_count": null,
   "id": "4d1527ba",
   "metadata": {},
   "outputs": [],
   "source": [
    "get_object_response = s3.get_object(\n",
    "    Bucket=DATA_BUCKET, \n",
    "    Key='jhub_logs_prj.csv'\n",
    ")"
   ]
  },
  {
   "cell_type": "code",
   "execution_count": null,
   "id": "7413807b",
   "metadata": {},
   "outputs": [],
   "source": [
    "%%time\n",
    "df = pd.read_csv(get_object_response['Body'], sep=';')\n",
    "df.info()"
   ]
  },
  {
   "cell_type": "markdown",
   "id": "560168d2",
   "metadata": {},
   "source": [
    "### 3. Preprocessing data"
   ]
  },
  {
   "cell_type": "markdown",
   "id": "6dbcd32c",
   "metadata": {},
   "source": [
    "#### 3.1. Parce the data"
   ]
  },
  {
   "cell_type": "code",
   "execution_count": null,
   "id": "2d397d69",
   "metadata": {},
   "outputs": [],
   "source": [
    "def row_info(rin):\n",
    "    \"\"\"\n",
    "    Extracts names of:\n",
    "      - docker image\n",
    "      - id of the Jupyter application\n",
    "      - name of the host, where Jupyter runs\n",
    "    \n",
    "    \"\"\"\n",
    "    img = rin[rin.find('container_image='):].split('\\'')[1]\n",
    "    hub = rin[rin.find('pod_name='):].split('\\'')[1]\n",
    "    host = rin[rin.find('host='):].split('\\'')[1]\n",
    "    return img, hub, host"
   ]
  },
  {
   "cell_type": "code",
   "execution_count": null,
   "id": "bae4c09e",
   "metadata": {},
   "outputs": [],
   "source": [
    "def sq_brackets(sin):\n",
    "    \"\"\"\n",
    "    Split log string amd extracts:\n",
    "      - timestamp of the event\n",
    "      - name of application\n",
    "      - type of logs\n",
    "      - code of event\n",
    "      - description\n",
    "    \n",
    "    \"\"\"\n",
    "    try:\n",
    "        s = sin.split('[', 1)[1].split(']')[0]\n",
    "        msg = sin[len(s) + 2 :].strip()\n",
    "        s = s.split()\n",
    "        head = s[0]\n",
    "        ts = ' '.join(s[1:3])\n",
    "        svc = s[3]\n",
    "        typ = s[4].split(':')[0]\n",
    "        code = s[4].split(':')[1]\n",
    "    except:\n",
    "        head, ts, svc, typ, code = '', '', '', '', ''\n",
    "        msg = sin\n",
    "    return head, ts, svc, typ, code, msg"
   ]
  },
  {
   "cell_type": "code",
   "execution_count": null,
   "id": "83336f29",
   "metadata": {},
   "outputs": [],
   "source": [
    "df['img'], df['hub'], df['host'] = zip(*df['kubernetes'].map(row_info))\n",
    "df.head()"
   ]
  },
  {
   "cell_type": "code",
   "execution_count": null,
   "id": "1385aace",
   "metadata": {},
   "outputs": [],
   "source": [
    "df['head'], df['timestamp'], df['service'], \\\n",
    "    df['event_type'], df['event_code'], df['message'] \\\n",
    "    = zip(*df['log'].map(sq_brackets))\n",
    "df.head()"
   ]
  },
  {
   "cell_type": "markdown",
   "id": "3cb1dec3",
   "metadata": {},
   "source": [
    "#### 3.2. Parce users' activities"
   ]
  },
  {
   "cell_type": "code",
   "execution_count": null,
   "id": "9dc047f9",
   "metadata": {},
   "outputs": [],
   "source": [
    "def parce_users_activities(row):\n",
    "    \"\"\"\n",
    "    Ugly function.\n",
    "    \n",
    "    You may use dictionary to make it\n",
    "    more pythonic or something else.\n",
    "    \n",
    "    \"\"\"\n",
    "    code = row['event_code']\n",
    "    msg = row['message']\n",
    "    if code in ['43', '44']:\n",
    "        user = msg.split()[-1]\n",
    "        log = 'logged out'\n",
    "    elif code in ['61', '85', '111']:\n",
    "        user = msg.split()[3]\n",
    "        log = 'spawning sever with advanced configuration option'\n",
    "    elif code == '148':\n",
    "        user = msg.split()[-1]\n",
    "        log = 'user is running'\n",
    "    elif code == '167':\n",
    "        user = msg.split()[1]\n",
    "        log = 'server is already active'\n",
    "    if code == '238':\n",
    "        user = msg.split()[-1]\n",
    "        log = 'adding role for user'\n",
    "    elif code in ['257', '333']:\n",
    "        user = msg.split()[2]\n",
    "        log = 'adding user to proxy'\n",
    "    elif code in ['281', '359']:\n",
    "        user = msg.split()[2]\n",
    "        log = 'removing user from proxy'\n",
    "    elif code == '361':\n",
    "        user = msg.split()[1]\n",
    "        log = 'user requested new auth token'\n",
    "    elif code == '380':\n",
    "        user = msg.split()[3]\n",
    "        log = 'previous spawn failed'\n",
    "    elif code in ['402', '394']:\n",
    "        user = msg.split()[0]\n",
    "        log = 'pending spawn'\n",
    "    elif code == '567':\n",
    "        user = msg.split('/')[4]\n",
    "        log = 'stream closed while handling '\n",
    "    elif code == '626':\n",
    "        user = msg.split()[1]\n",
    "        log = 'server is already started'\n",
    "    elif code == '651':\n",
    "        user = msg.split('-')[2]\n",
    "        log = 'creating oauth client for user'\n",
    "    elif code in ['664', '749']:\n",
    "        user = msg.split()[1]\n",
    "        log = 'server is ready'\n",
    "    elif code == '681':\n",
    "        user = msg.split()[0].replace('\\'s', '')\n",
    "        log = 'server failed to start'\n",
    "    elif code == '689':\n",
    "        user = msg.split()[3].replace('\\'s', '')\n",
    "        log = 'unhandled error starting with timeout'\n",
    "    elif code == '738':\n",
    "        user = msg.split()[0].replace(',', '').replace('\\'s', '')\n",
    "        log = 'server never showed up and giving up'\n",
    "    elif code in ['757', '810']:\n",
    "        user = msg.split()[-1]\n",
    "        log = 'logged in'\n",
    "    elif code in ['904', '963']:\n",
    "        user = msg.split()[1]\n",
    "        log = 'server took time to start'\n",
    "    elif code in ['1067', '2022']:\n",
    "        user = msg.split()[1]\n",
    "        log = 'user server stopped with exit code 1'\n",
    "    elif code in ['1110', '1170']:\n",
    "        user = msg.split()[1]\n",
    "        log = 'server took time to stop'\n",
    "    elif code in ['1143', '1203']:\n",
    "        user = msg.split()[1].replace(':', '')\n",
    "        log = 'server is slow to stop'\n",
    "    elif code in ['1344', '1409']:\n",
    "        user = msg.split('/')[3]\n",
    "        log = 'failing suspected api request to not-running server'\n",
    "    elif code in ['1143', '1203']:\n",
    "        user = msg.split()[1].replace('/', '')\n",
    "        log = 'server is slow to stop'\n",
    "    elif code == '1415':\n",
    "        user = msg.split()[-1]\n",
    "        log = 'admin requesting spawn on behalf'\n",
    "    elif code == '1437':\n",
    "        user = msg.split()[1]\n",
    "        log = 'user requested server which user do not own'\n",
    "    elif code == '1840':\n",
    "        user = msg.split()[4].replace('jupyter-', '').replace(',', '')\n",
    "        log = 'attempting to create pod with timeout'\n",
    "    elif code == '1857':\n",
    "        user = msg.split()[3].replace('jupyter-', '').replace(',', '')\n",
    "        log = 'found existing pod and attempting to kill'\n",
    "    elif code == '1861':\n",
    "        user = msg.split()[2].replace('jupyter-', '').replace(',', '')\n",
    "        log = 'killed pod and will try starting singleuser pod again'\n",
    "    elif code in ['1875', '2469', '2509']:\n",
    "        user = msg.split()[4].replace('claim-', '').replace('jupyter-', '').replace(',', '')\n",
    "        log = 'attempt to create pvc with timeout'\n",
    "    elif code in ['1887', '2525']:\n",
    "        user = msg.split()[1].replace('claim-', '')\n",
    "        log = 'pvc already exists'\n",
    "    elif code in ['1961', '2044']:\n",
    "        user = msg.split()[1].replace('jupyter-', '')\n",
    "        log = 'restarting pod reflector'\n",
    "    elif code in ['1997', '2780']:\n",
    "        user = msg.split('-')[-1]\n",
    "        log = 'deleting pod'\n",
    "    elif code == '2069':\n",
    "        user = msg.split()[0].replace(',', '')\n",
    "        log = 'user does not appear to be running and shutting it down'  \n",
    "    elif code in ['2077', '2504']:\n",
    "        user = msg.split()[0]\n",
    "        log = 'still running'\n",
    "    elif code == '2085':\n",
    "        user = msg.split()[0]\n",
    "        log = 'server appears to have stopped while the hub was down'\n",
    "    elif code == '2170':\n",
    "        user = msg.split('-')[-1]\n",
    "        log = 'deleting oauth client'\n",
    "    else:\n",
    "        user, log = '', ''\n",
    "    return user, log"
   ]
  },
  {
   "cell_type": "code",
   "execution_count": null,
   "id": "98b6dcb6",
   "metadata": {},
   "outputs": [],
   "source": [
    "df['user'], df['log'] = zip(*df.apply(parce_users_activities, axis=1))\n",
    "df.head()"
   ]
  },
  {
   "cell_type": "code",
   "execution_count": null,
   "id": "be7844f8",
   "metadata": {},
   "outputs": [],
   "source": [
    "df = df.loc[df.user != '', [\n",
    "    'timestamp',\n",
    "    'hub',\n",
    "    'img',\n",
    "    'host',\n",
    "    'event_code',\n",
    "    'event_type',\n",
    "    'log',\n",
    "    'user'\n",
    "]].reset_index(drop=True)\n",
    "\n",
    "df.head()"
   ]
  },
  {
   "cell_type": "markdown",
   "id": "4232b305",
   "metadata": {},
   "source": [
    "### 4. Normalize data"
   ]
  },
  {
   "cell_type": "markdown",
   "id": "6fb27d21",
   "metadata": {},
   "source": [
    "#### 4.1. Users table"
   ]
  },
  {
   "cell_type": "code",
   "execution_count": null,
   "id": "24aa16c2",
   "metadata": {},
   "outputs": [],
   "source": [
    "logins = df.user.unique()\n",
    "print(len(logins))"
   ]
  },
  {
   "cell_type": "code",
   "execution_count": null,
   "id": "d89d3aca",
   "metadata": {},
   "outputs": [],
   "source": [
    "users = []\n",
    "for login in logins:\n",
    "    user = {}\n",
    "    user['login'] = login\n",
    "    user['name'] = names.get_full_name()\n",
    "    user['email'] = login + '@gsom.spbu.ru'\n",
    "    users.append(user)"
   ]
  },
  {
   "cell_type": "code",
   "execution_count": null,
   "id": "0ab1a3a5",
   "metadata": {},
   "outputs": [],
   "source": [
    "df_users = pd.DataFrame(users)\n",
    "df_users.head()"
   ]
  },
  {
   "cell_type": "code",
   "execution_count": null,
   "id": "970a0918",
   "metadata": {},
   "outputs": [],
   "source": [
    "client = clickhouse_connect.get_client(\n",
    "    host=access_ch['host'], \n",
    "    username=access_ch['user'], \n",
    "    password=access_ch['password'],\n",
    "    port=access_ch['port'],\n",
    "    verify=f'{access_ch[\"sslrootcert\"]}'\n",
    ")"
   ]
  },
  {
   "cell_type": "code",
   "execution_count": null,
   "id": "a1f10a7b",
   "metadata": {},
   "outputs": [],
   "source": [
    "result = client.query('DROP TABLE IF EXISTS db1.users')\n",
    "query = '''\n",
    "CREATE TABLE IF NOT EXISTS db1.users\n",
    "(\n",
    "    email String,\n",
    "    login String,\n",
    "    name String\n",
    ") ENGINE = MergeTree\n",
    "ORDER BY email;\n",
    "'''\n",
    "result = client.query(query)\n",
    "result.result_rows"
   ]
  },
  {
   "cell_type": "code",
   "execution_count": null,
   "id": "080ec362",
   "metadata": {},
   "outputs": [],
   "source": [
    "client.insert_df(\n",
    "    'db1.users',\n",
    "    df_users\n",
    ")"
   ]
  },
  {
   "cell_type": "code",
   "execution_count": null,
   "id": "cfc846cc",
   "metadata": {},
   "outputs": [],
   "source": [
    "result = client.query(\n",
    "    \"SELECT * FROM db1.users LIMIT 5\"\n",
    ")\n",
    "result.result_rows"
   ]
  },
  {
   "cell_type": "markdown",
   "id": "bf114823",
   "metadata": {},
   "source": [
    "#### 4.2. JupyterHub instances table"
   ]
  },
  {
   "cell_type": "code",
   "execution_count": null,
   "id": "05afd65e",
   "metadata": {},
   "outputs": [],
   "source": [
    "df_instances = df[[\n",
    "    'hub',\n",
    "    'img',\n",
    "    'host'\n",
    "]].reset_index(drop=True)"
   ]
  },
  {
   "cell_type": "code",
   "execution_count": null,
   "id": "3841745a",
   "metadata": {},
   "outputs": [],
   "source": [
    "df_instances.drop_duplicates(inplace=True)\n",
    "df_instances.reset_index(drop=True, inplace=True)\n",
    "df_instances.head()"
   ]
  },
  {
   "cell_type": "code",
   "execution_count": null,
   "id": "d35665a3",
   "metadata": {},
   "outputs": [],
   "source": [
    "result = client.query('DROP TABLE IF EXISTS db1.instances')\n",
    "query = '''\n",
    "CREATE TABLE IF NOT EXISTS db1.instances\n",
    "(\n",
    "    hub String,\n",
    "    img String,\n",
    "    host String\n",
    ") ENGINE = MergeTree\n",
    "ORDER BY hub;\n",
    "'''\n",
    "result = client.query(query)\n",
    "result.result_rows"
   ]
  },
  {
   "cell_type": "code",
   "execution_count": null,
   "id": "e73a0b40",
   "metadata": {},
   "outputs": [],
   "source": [
    "client.insert_df(\n",
    "    'db1.instances',\n",
    "    df_instances\n",
    ")"
   ]
  },
  {
   "cell_type": "code",
   "execution_count": null,
   "id": "8fcb64a3",
   "metadata": {},
   "outputs": [],
   "source": [
    "result = client.query(\n",
    "    \"SELECT * FROM db1.instances LIMIT 5\"\n",
    ")\n",
    "result.result_rows"
   ]
  },
  {
   "cell_type": "markdown",
   "id": "68d79489",
   "metadata": {},
   "source": [
    "#### 4.4. JupyterHub logs table"
   ]
  },
  {
   "cell_type": "code",
   "execution_count": null,
   "id": "8a19aec3",
   "metadata": {},
   "outputs": [],
   "source": [
    "df_logs = df[[\n",
    "    'timestamp',\n",
    "    'hub',\n",
    "    'event_code',\n",
    "    'event_type',\n",
    "    'log',\n",
    "    'user'\n",
    "]].reset_index(drop=True)"
   ]
  },
  {
   "cell_type": "code",
   "execution_count": null,
   "id": "f50cf96f",
   "metadata": {},
   "outputs": [],
   "source": [
    "df_logs.rename({'user': 'login'}, axis='columns', inplace=True)"
   ]
  },
  {
   "cell_type": "code",
   "execution_count": null,
   "id": "64220b67",
   "metadata": {},
   "outputs": [],
   "source": [
    "result = client.query('DROP TABLE IF EXISTS db1.logs')\n",
    "query = '''\n",
    "CREATE TABLE IF NOT EXISTS db1.logs\n",
    "(\n",
    "    timestamp String,\n",
    "    hub String,\n",
    "    event_code String,\n",
    "    event_type String,\n",
    "    log String,\n",
    "    login String\n",
    ") ENGINE = MergeTree\n",
    "ORDER BY hub;\n",
    "'''\n",
    "result = client.query(query)\n",
    "result.result_rows"
   ]
  },
  {
   "cell_type": "code",
   "execution_count": null,
   "id": "53af21fc",
   "metadata": {},
   "outputs": [],
   "source": [
    "client.insert_df(\n",
    "    'db1.logs',\n",
    "    df_logs\n",
    ")"
   ]
  },
  {
   "cell_type": "code",
   "execution_count": null,
   "id": "1ae1afdc",
   "metadata": {},
   "outputs": [],
   "source": [
    "result = client.query(\n",
    "    \"SELECT * FROM db1.logs LIMIT 5\"\n",
    ")\n",
    "result.result_rows"
   ]
  },
  {
   "cell_type": "markdown",
   "id": "d55427dd",
   "metadata": {},
   "source": [
    "### 5. Drop everything (if necessary)"
   ]
  },
  {
   "cell_type": "code",
   "execution_count": null,
   "id": "ec765d94",
   "metadata": {},
   "outputs": [],
   "source": [
    "client.query('DROP TABLE IF EXISTS db1.users')\n",
    "client.query('DROP TABLE IF EXISTS db1.instances')\n",
    "client.query('DROP TABLE IF EXISTS db1.logs')"
   ]
  },
  {
   "cell_type": "code",
   "execution_count": null,
   "id": "23616731",
   "metadata": {},
   "outputs": [],
   "source": []
  }
 ],
 "metadata": {
  "kernelspec": {
   "display_name": "Python 3 (ipykernel)",
   "language": "python",
   "name": "python3"
  },
  "language_info": {
   "codemirror_mode": {
    "name": "ipython",
    "version": 3
   },
   "file_extension": ".py",
   "mimetype": "text/x-python",
   "name": "python",
   "nbconvert_exporter": "python",
   "pygments_lexer": "ipython3",
   "version": "3.9.7"
  },
  "widgets": {
   "application/vnd.jupyter.widget-state+json": {
    "state": {},
    "version_major": 2,
    "version_minor": 0
   }
  }
 },
 "nbformat": 4,
 "nbformat_minor": 5
}
