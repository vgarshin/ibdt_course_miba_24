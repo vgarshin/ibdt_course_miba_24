{
 "cells": [
  {
   "cell_type": "markdown",
   "id": "0a7598c2",
   "metadata": {},
   "source": [
    "# Introduction to Big Data Modern Technologies course"
   ]
  },
  {
   "cell_type": "markdown",
   "id": "d3f34545",
   "metadata": {},
   "source": [
    "## TOPIC 3: Hadoop and MapReduce practice\n",
    "### Intro and Jupyter hints"
   ]
  },
  {
   "cell_type": "markdown",
   "id": "1c7e720a",
   "metadata": {},
   "source": [
    "### 1. Basic commands and variables"
   ]
  },
  {
   "cell_type": "markdown",
   "id": "46e0a969",
   "metadata": {},
   "source": [
    "#### 1.1. Unix terminal"
   ]
  },
  {
   "cell_type": "code",
   "execution_count": null,
   "id": "2af7d059",
   "metadata": {},
   "outputs": [],
   "source": [
    "!help"
   ]
  },
  {
   "cell_type": "code",
   "execution_count": null,
   "id": "72b7f756",
   "metadata": {},
   "outputs": [],
   "source": [
    "!pwd"
   ]
  },
  {
   "cell_type": "code",
   "execution_count": null,
   "id": "583ff506",
   "metadata": {},
   "outputs": [],
   "source": [
    "!ls"
   ]
  },
  {
   "cell_type": "code",
   "execution_count": null,
   "id": "34c3b414",
   "metadata": {},
   "outputs": [],
   "source": [
    "!date"
   ]
  },
  {
   "cell_type": "code",
   "execution_count": null,
   "id": "1a0d8677",
   "metadata": {},
   "outputs": [],
   "source": [
    "!touch demo.txt\n",
    "!ls -la"
   ]
  },
  {
   "cell_type": "code",
   "execution_count": null,
   "id": "74877268",
   "metadata": {},
   "outputs": [],
   "source": [
    "!echo some text"
   ]
  },
  {
   "cell_type": "code",
   "execution_count": null,
   "id": "27ec2ab6",
   "metadata": {},
   "outputs": [],
   "source": [
    "!echo some text > demo.txt"
   ]
  },
  {
   "cell_type": "code",
   "execution_count": null,
   "id": "9781ae94",
   "metadata": {},
   "outputs": [],
   "source": [
    "!cat demo.txt"
   ]
  },
  {
   "cell_type": "code",
   "execution_count": null,
   "id": "0aac64ac",
   "metadata": {},
   "outputs": [],
   "source": [
    "!echo some more text > demo.txt"
   ]
  },
  {
   "cell_type": "code",
   "execution_count": null,
   "id": "9ee3227a",
   "metadata": {},
   "outputs": [],
   "source": [
    "!cat demo.txt"
   ]
  },
  {
   "cell_type": "code",
   "execution_count": null,
   "id": "f4d29ad6",
   "metadata": {},
   "outputs": [],
   "source": [
    "!echo some text > demo.txt\n",
    "!echo some more text >> demo.txt"
   ]
  },
  {
   "cell_type": "code",
   "execution_count": null,
   "id": "7082bbf2",
   "metadata": {},
   "outputs": [],
   "source": [
    "!cat demo.txt"
   ]
  },
  {
   "cell_type": "markdown",
   "id": "3af7e457",
   "metadata": {},
   "source": [
    "#### 1.2. Unix terminal and notebook variables"
   ]
  },
  {
   "cell_type": "markdown",
   "id": "338aac4d",
   "metadata": {},
   "source": [
    "##### Notebook variables"
   ]
  },
  {
   "cell_type": "code",
   "execution_count": null,
   "id": "f075ffa5",
   "metadata": {},
   "outputs": [],
   "source": [
    "some_variable = 'pwd'"
   ]
  },
  {
   "cell_type": "code",
   "execution_count": null,
   "id": "709bd24f",
   "metadata": {},
   "outputs": [],
   "source": [
    "!echo some_variable"
   ]
  },
  {
   "cell_type": "code",
   "execution_count": null,
   "id": "20ed869b",
   "metadata": {},
   "outputs": [],
   "source": [
    "!echo {some_variable}"
   ]
  },
  {
   "cell_type": "code",
   "execution_count": null,
   "id": "c47b910a",
   "metadata": {},
   "outputs": [],
   "source": [
    "!{some_variable}"
   ]
  },
  {
   "cell_type": "code",
   "execution_count": null,
   "id": "96884658",
   "metadata": {},
   "outputs": [],
   "source": [
    "path = '/home/jovyan/ibdt_course_miba_24/topic_3'\n",
    "file = 'demo.txt'\n",
    "!cat {path + '/' + file}"
   ]
  },
  {
   "cell_type": "markdown",
   "id": "7287f633",
   "metadata": {},
   "source": [
    "##### Be carefull: Python vs shell variables"
   ]
  },
  {
   "cell_type": "code",
   "execution_count": null,
   "id": "52f8b6fb",
   "metadata": {},
   "outputs": [],
   "source": [
    "!another_variable=\"hello\""
   ]
  },
  {
   "cell_type": "code",
   "execution_count": null,
   "id": "185aa262",
   "metadata": {},
   "outputs": [],
   "source": [
    "!echo ${another_variable}"
   ]
  },
  {
   "cell_type": "code",
   "execution_count": null,
   "id": "c07f7687",
   "metadata": {},
   "outputs": [],
   "source": [
    "!another_variable=\"hello\" \n",
    "!echo ${another_variable}"
   ]
  },
  {
   "cell_type": "code",
   "execution_count": null,
   "id": "3ceb0d0f",
   "metadata": {},
   "outputs": [],
   "source": [
    "!another_variable=\"hello\" && echo ${another_variable}"
   ]
  },
  {
   "cell_type": "markdown",
   "id": "ca1a784d",
   "metadata": {},
   "source": [
    "#### 1.3. Simple combinations with Python and Unix terminal"
   ]
  },
  {
   "cell_type": "code",
   "execution_count": null,
   "id": "806bc694",
   "metadata": {},
   "outputs": [],
   "source": [
    "flag = False"
   ]
  },
  {
   "cell_type": "code",
   "execution_count": null,
   "id": "bade581e",
   "metadata": {},
   "outputs": [],
   "source": [
    "if flag:\n",
    "    !echo hello\n",
    "else:\n",
    "    !echo not hello"
   ]
  },
  {
   "cell_type": "code",
   "execution_count": null,
   "id": "7422eb71",
   "metadata": {},
   "outputs": [],
   "source": [
    "flag_install = False"
   ]
  },
  {
   "cell_type": "code",
   "execution_count": null,
   "id": "e8fb7f92",
   "metadata": {},
   "outputs": [],
   "source": [
    "if flag:\n",
    "    # install Pandas and NumPy (because it is needed for Pandas)\n",
    "    !pip install pandas\n",
    "else:\n",
    "    # only NumPy install\n",
    "    !pip install numpy"
   ]
  },
  {
   "cell_type": "markdown",
   "id": "2f8acd54",
   "metadata": {},
   "source": [
    "#### 1.4. Jupyter's magic"
   ]
  },
  {
   "cell_type": "markdown",
   "id": "bbb6c31f",
   "metadata": {},
   "source": [
    "[Here](https://ipython.readthedocs.io/en/stable/interactive/magics.html) is the magic of Jupyter."
   ]
  },
  {
   "cell_type": "code",
   "execution_count": null,
   "id": "7076aea5",
   "metadata": {
    "tags": []
   },
   "outputs": [],
   "source": [
    "%magic"
   ]
  },
  {
   "cell_type": "code",
   "execution_count": null,
   "id": "cd720965",
   "metadata": {},
   "outputs": [],
   "source": [
    "%lsmagic"
   ]
  },
  {
   "cell_type": "code",
   "execution_count": null,
   "id": "e915aeaa",
   "metadata": {},
   "outputs": [],
   "source": [
    "%pwd"
   ]
  },
  {
   "cell_type": "code",
   "execution_count": null,
   "id": "ccb903f8",
   "metadata": {},
   "outputs": [],
   "source": [
    "%ls"
   ]
  },
  {
   "cell_type": "markdown",
   "id": "0c729f44",
   "metadata": {},
   "source": [
    "#### 1.5. Jupyter's cell magic (bash)"
   ]
  },
  {
   "cell_type": "code",
   "execution_count": null,
   "id": "56056925",
   "metadata": {},
   "outputs": [],
   "source": [
    "%%bash\n",
    "\n",
    "pwd"
   ]
  },
  {
   "cell_type": "code",
   "execution_count": null,
   "id": "d88a63ae",
   "metadata": {},
   "outputs": [],
   "source": [
    "%%bash\n",
    "\n",
    "pwd\n",
    "ls -la"
   ]
  },
  {
   "cell_type": "code",
   "execution_count": null,
   "id": "0de176b0",
   "metadata": {},
   "outputs": [],
   "source": [
    "%%bash\n",
    "\n",
    "bash_variable=\"hello\"\n",
    "echo $bash_variable\n",
    "echo ${bash_variable}"
   ]
  },
  {
   "cell_type": "markdown",
   "id": "4866276e",
   "metadata": {},
   "source": [
    "#### 1.5. Jupyter's cell magic (not only bash)"
   ]
  },
  {
   "cell_type": "code",
   "execution_count": null,
   "id": "ec4f2de6",
   "metadata": {},
   "outputs": [],
   "source": [
    "%%js\n",
    "alert('I can run JavaScript. Ha-ha, you did not expect this message!');"
   ]
  },
  {
   "cell_type": "markdown",
   "id": "336101a2",
   "metadata": {},
   "source": [
    "### 2. Bash"
   ]
  },
  {
   "cell_type": "markdown",
   "id": "69422fd9",
   "metadata": {},
   "source": [
    "##### Loops"
   ]
  },
  {
   "cell_type": "code",
   "execution_count": null,
   "id": "753b6cf6",
   "metadata": {},
   "outputs": [],
   "source": [
    "%%bash\n",
    "\n",
    "for item in first second third fourth fifth\n",
    "  do\n",
    "    echo ${item}\n",
    "  done"
   ]
  },
  {
   "cell_type": "code",
   "execution_count": null,
   "id": "2b6ef1e2",
   "metadata": {},
   "outputs": [],
   "source": [
    "%%bash\n",
    "\n",
    "for item in \"the first\" \"the second\" \"the third\"\n",
    "  do\n",
    "    echo ${item} item\n",
    "  done"
   ]
  },
  {
   "cell_type": "code",
   "execution_count": null,
   "id": "5f00bce6",
   "metadata": {},
   "outputs": [],
   "source": [
    "%%bash\n",
    "\n",
    "for item in \"the first\" \"the second\" \"the third\"\n",
    "  do\n",
    "    echo \"here comes ${item} item\"\n",
    "  done"
   ]
  },
  {
   "cell_type": "code",
   "execution_count": null,
   "id": "b1c805ca",
   "metadata": {},
   "outputs": [],
   "source": [
    "%%bash\n",
    "\n",
    "file=\"demo.txt\"\n",
    "cat ${file}"
   ]
  },
  {
   "cell_type": "code",
   "execution_count": null,
   "id": "96bf3dd1",
   "metadata": {},
   "outputs": [],
   "source": [
    "%%bash\n",
    "\n",
    "file=\"demo.txt\"\n",
    "for word in $(cat ${file})\n",
    "  do\n",
    "    echo ${word}\n",
    "  done"
   ]
  },
  {
   "cell_type": "code",
   "execution_count": null,
   "id": "02691dba",
   "metadata": {},
   "outputs": [],
   "source": [
    "%%bash\n",
    "\n",
    "# here we use \n",
    "# environment variable `IFS`\n",
    "# to split list by new line\n",
    "\n",
    "file=\"demo.txt\"\n",
    "IFS=$'\\n'\n",
    "for line in $(cat $file)\n",
    "  do\n",
    "    echo ${line}\n",
    "  done"
   ]
  },
  {
   "cell_type": "code",
   "execution_count": null,
   "id": "2971278e",
   "metadata": {},
   "outputs": [],
   "source": [
    "%%bash\n",
    "\n",
    "for file in /home/jovyan/ibdt_course_miba_23/topic_3/*\n",
    "  do\n",
    "    echo $file\n",
    "  done"
   ]
  },
  {
   "cell_type": "markdown",
   "id": "2bcca4c5",
   "metadata": {},
   "source": [
    "##### If-else"
   ]
  },
  {
   "cell_type": "code",
   "execution_count": null,
   "id": "070a57da",
   "metadata": {},
   "outputs": [],
   "source": [
    "%%bash\n",
    "\n",
    "var=1\n",
    "\n",
    "if [[ ${var} -gt 5 ]]\n",
    "then\n",
    "  echo \"variable is > 5\"\n",
    "else\n",
    "  echo \"variable is < 5\"\n",
    "fi"
   ]
  },
  {
   "cell_type": "code",
   "execution_count": null,
   "id": "c8609acb",
   "metadata": {
    "tags": []
   },
   "outputs": [],
   "source": [
    "%%bash\n",
    "\n",
    "for file in /home/jovyan/*\n",
    "  do\n",
    "    if [ -d \"$file\" ]\n",
    "      then\n",
    "        echo \"$file is a directory\"\n",
    "    elif [ -f \"$file\" ]\n",
    "      then\n",
    "        echo \"$file is a file\"\n",
    "    fi\n",
    "  done"
   ]
  },
  {
   "cell_type": "markdown",
   "id": "ed806c9f",
   "metadata": {},
   "source": [
    "##### File operations"
   ]
  },
  {
   "cell_type": "code",
   "execution_count": null,
   "id": "c9f8e9ee",
   "metadata": {},
   "outputs": [],
   "source": [
    "%%bash\n",
    "\n",
    "cp demo.txt one_more_demo.txt\n",
    "ls -la\n",
    "echo \"**************************************\"\n",
    "cat one_more_demo.txt"
   ]
  },
  {
   "cell_type": "code",
   "execution_count": null,
   "id": "c1022e82",
   "metadata": {},
   "outputs": [],
   "source": [
    "%%bash\n",
    "\n",
    "mkdir useless_directory\n",
    "ls -la\n",
    "\n",
    "echo \"**************************************\"\n",
    "\n",
    "mv one_more_demo.txt useless_directory/\n",
    "ls -la useless_directory/\n",
    "\n",
    "echo \"**************************************\"\n",
    "\n",
    "cat useless_directory/one_more_demo.txt"
   ]
  },
  {
   "cell_type": "code",
   "execution_count": null,
   "id": "1cac5eb2",
   "metadata": {},
   "outputs": [],
   "source": [
    "# use `rm -rf` with care!!!\n",
    "\n",
    "!rm -rf useless_directory"
   ]
  },
  {
   "cell_type": "markdown",
   "id": "ae70e61f",
   "metadata": {},
   "source": [
    "##### Run Python script"
   ]
  },
  {
   "cell_type": "code",
   "execution_count": null,
   "id": "eb7565ff",
   "metadata": {},
   "outputs": [],
   "source": [
    "!which python"
   ]
  },
  {
   "cell_type": "code",
   "execution_count": null,
   "id": "9359f8c7",
   "metadata": {},
   "outputs": [],
   "source": [
    "!echo \"x = 'I am a Python script and I am running'\" > demo.py\n",
    "!echo \"print(x)\" >> demo.py\n",
    "!cat demo.py"
   ]
  },
  {
   "cell_type": "code",
   "execution_count": null,
   "id": "919ba53d",
   "metadata": {},
   "outputs": [],
   "source": [
    "!python demo.py"
   ]
  },
  {
   "cell_type": "markdown",
   "id": "af2184d9",
   "metadata": {},
   "source": [
    "### 3. Pipes"
   ]
  },
  {
   "cell_type": "markdown",
   "id": "7f051743",
   "metadata": {},
   "source": [
    "Here is a [good article](https://medium.com/linuxstories/bash-pipes-and-redirections-4c267c13643b), but we need only `pipe` concept."
   ]
  },
  {
   "cell_type": "code",
   "execution_count": null,
   "id": "ea936fcb-5840-44a5-a66b-4ec532791586",
   "metadata": {},
   "outputs": [],
   "source": [
    "!wc -l *"
   ]
  },
  {
   "cell_type": "code",
   "execution_count": null,
   "id": "e6b9c242-2a79-4a97-b5f5-55880c373837",
   "metadata": {},
   "outputs": [],
   "source": [
    "!wc demo.txt"
   ]
  },
  {
   "cell_type": "code",
   "execution_count": null,
   "id": "ed3b52d8-e3c1-419c-b508-9102db393bd8",
   "metadata": {},
   "outputs": [],
   "source": [
    "!wc -w demo.txt"
   ]
  },
  {
   "cell_type": "code",
   "execution_count": null,
   "id": "8369fb9f",
   "metadata": {},
   "outputs": [],
   "source": [
    "!wc -l demo.txt"
   ]
  },
  {
   "cell_type": "code",
   "execution_count": null,
   "id": "4694bbf0",
   "metadata": {},
   "outputs": [],
   "source": [
    "!wc -l < demo.txt"
   ]
  },
  {
   "cell_type": "code",
   "execution_count": null,
   "id": "fae5db8c",
   "metadata": {},
   "outputs": [],
   "source": [
    "!cat demo.txt"
   ]
  },
  {
   "cell_type": "code",
   "execution_count": null,
   "id": "01bdce0f",
   "metadata": {},
   "outputs": [],
   "source": [
    "!cat demo.txt | wc -l"
   ]
  },
  {
   "cell_type": "code",
   "execution_count": null,
   "id": "7c9bce72",
   "metadata": {},
   "outputs": [],
   "source": [
    "!cat demo.txt | grep more"
   ]
  },
  {
   "cell_type": "code",
   "execution_count": null,
   "id": "376f0830",
   "metadata": {},
   "outputs": [],
   "source": [
    "!cat demo.txt | grep text"
   ]
  },
  {
   "cell_type": "code",
   "execution_count": null,
   "id": "a4a511c3",
   "metadata": {},
   "outputs": [],
   "source": [
    "!ls -la"
   ]
  },
  {
   "cell_type": "code",
   "execution_count": null,
   "id": "b020a88e",
   "metadata": {},
   "outputs": [],
   "source": [
    "!ls -la | grep txt"
   ]
  },
  {
   "cell_type": "code",
   "execution_count": null,
   "id": "f148b439",
   "metadata": {},
   "outputs": [],
   "source": [
    "!ls -la | wc -l"
   ]
  },
  {
   "cell_type": "code",
   "execution_count": null,
   "id": "257db435",
   "metadata": {},
   "outputs": [],
   "source": [
    "!ls -la | grep txt | wc -l"
   ]
  },
  {
   "cell_type": "code",
   "execution_count": null,
   "id": "36ee4292",
   "metadata": {},
   "outputs": [],
   "source": [
    "!ls | grep txt | sort"
   ]
  },
  {
   "cell_type": "code",
   "execution_count": null,
   "id": "d723f1be",
   "metadata": {},
   "outputs": [],
   "source": [
    "!ls | grep txt | sort -r"
   ]
  },
  {
   "cell_type": "markdown",
   "id": "2cad9523",
   "metadata": {},
   "source": [
    "### 4. Yield"
   ]
  },
  {
   "cell_type": "markdown",
   "id": "75f98a0e",
   "metadata": {},
   "source": [
    "#### Example 1"
   ]
  },
  {
   "cell_type": "code",
   "execution_count": null,
   "id": "c12fda50",
   "metadata": {},
   "outputs": [],
   "source": [
    "def odd_number(numbers) :\n",
    "    for n in numbers:\n",
    "        if n % 2 != 0:\n",
    "            yield n"
   ]
  },
  {
   "cell_type": "code",
   "execution_count": null,
   "id": "bb04db36",
   "metadata": {},
   "outputs": [],
   "source": [
    "numbers = [0, 1, 2, 3, 4, 5, 6, 7]"
   ]
  },
  {
   "cell_type": "code",
   "execution_count": null,
   "id": "234ee95a",
   "metadata": {},
   "outputs": [],
   "source": [
    "print('odd numbers:')\n",
    "for n in odd_number(numbers):\n",
    "    print(n, end=' ')"
   ]
  },
  {
   "cell_type": "markdown",
   "id": "f6db2e5c",
   "metadata": {},
   "source": [
    "#### Example 2"
   ]
  },
  {
   "cell_type": "code",
   "execution_count": null,
   "id": "5884d073",
   "metadata": {},
   "outputs": [],
   "source": [
    "def cube_generator():\n",
    "    n = 1\n",
    "    while True:\n",
    "        yield n ** 3                \n",
    "        n += 1 # starts from here if called again"
   ]
  },
  {
   "cell_type": "code",
   "execution_count": null,
   "id": "fa975f8c-4ecd-4fdb-b68c-7707e78a3b09",
   "metadata": {},
   "outputs": [],
   "source": [
    "cug = cube_generator()"
   ]
  },
  {
   "cell_type": "code",
   "execution_count": null,
   "id": "590fc7a5-13e4-414c-8c76-f1bceb263fbb",
   "metadata": {},
   "outputs": [],
   "source": [
    "cug"
   ]
  },
  {
   "cell_type": "code",
   "execution_count": null,
   "id": "4414192f-6d8b-47bf-b4da-28a9bd1588d2",
   "metadata": {},
   "outputs": [],
   "source": [
    "next(cug)"
   ]
  },
  {
   "cell_type": "code",
   "execution_count": null,
   "id": "7195364a",
   "metadata": {},
   "outputs": [],
   "source": [
    "counter = 1\n",
    "for n in cube_generator():\n",
    "    if counter > 10:\n",
    "        break   \n",
    "    print(n)\n",
    "    counter += 1"
   ]
  },
  {
   "cell_type": "markdown",
   "id": "d3fc03e3",
   "metadata": {},
   "source": [
    "#### Example 3"
   ]
  },
  {
   "cell_type": "code",
   "execution_count": null,
   "id": "07644a2a",
   "metadata": {},
   "outputs": [],
   "source": [
    "def want_more(text):\n",
    "    text = text.split()\n",
    "    for word in text:\n",
    "        print(word)\n",
    "        if word == 'more':\n",
    "            yield True"
   ]
  },
  {
   "cell_type": "code",
   "execution_count": null,
   "id": "4e034d56",
   "metadata": {},
   "outputs": [],
   "source": [
    "text = 'some text some more text and text'"
   ]
  },
  {
   "cell_type": "code",
   "execution_count": null,
   "id": "c2c9870a-9a25-47c3-bce3-fd80631cbb27",
   "metadata": {},
   "outputs": [],
   "source": [
    "wm = want_more(text)"
   ]
  },
  {
   "cell_type": "code",
   "execution_count": null,
   "id": "64f7b9cf-dcce-4778-9d8f-86ea35529c86",
   "metadata": {},
   "outputs": [],
   "source": [
    "next(wm)"
   ]
  },
  {
   "cell_type": "code",
   "execution_count": null,
   "id": "3e3eb516-e7f5-42ac-ae89-ab841e5d24dc",
   "metadata": {},
   "outputs": [],
   "source": [
    "next(wm)"
   ]
  },
  {
   "cell_type": "code",
   "execution_count": null,
   "id": "f4c34796",
   "metadata": {},
   "outputs": [],
   "source": [
    "try:\n",
    "    next(wm)\n",
    "except StopIteration:\n",
    "    print('no more left to do')\n",
    "    pass"
   ]
  },
  {
   "cell_type": "markdown",
   "id": "056c4be5",
   "metadata": {},
   "source": [
    "__MOTIVATION:__ It is recommended to use `yield` when we want to iterate over a sequence, but we do not want to keep sequence in memory (e.g. because of resource constraints)."
   ]
  },
  {
   "cell_type": "code",
   "execution_count": null,
   "id": "668cfb79-d079-4cfd-ba2f-42c7f6aa03b1",
   "metadata": {},
   "outputs": [],
   "source": []
  }
 ],
 "metadata": {
  "kernelspec": {
   "display_name": "Python 3 (ipykernel)",
   "language": "python",
   "name": "python3"
  },
  "language_info": {
   "codemirror_mode": {
    "name": "ipython",
    "version": 3
   },
   "file_extension": ".py",
   "mimetype": "text/x-python",
   "name": "python",
   "nbconvert_exporter": "python",
   "pygments_lexer": "ipython3",
   "version": "3.9.7"
  },
  "varInspector": {
   "cols": {
    "lenName": 16,
    "lenType": 16,
    "lenVar": 40
   },
   "kernels_config": {
    "python": {
     "delete_cmd_postfix": "",
     "delete_cmd_prefix": "del ",
     "library": "var_list.py",
     "varRefreshCmd": "print(var_dic_list())"
    },
    "r": {
     "delete_cmd_postfix": ") ",
     "delete_cmd_prefix": "rm(",
     "library": "var_list.r",
     "varRefreshCmd": "cat(var_dic_list()) "
    }
   },
   "types_to_exclude": [
    "module",
    "function",
    "builtin_function_or_method",
    "instance",
    "_Feature"
   ],
   "window_display": false
  },
  "widgets": {
   "application/vnd.jupyter.widget-state+json": {
    "state": {},
    "version_major": 2,
    "version_minor": 0
   }
  }
 },
 "nbformat": 4,
 "nbformat_minor": 5
}
