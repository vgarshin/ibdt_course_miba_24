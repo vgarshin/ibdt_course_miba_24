{
 "cells": [
  {
   "cell_type": "markdown",
   "id": "d8db3847",
   "metadata": {},
   "source": [
    "# Introduction to Big Data Modern Technologies course"
   ]
  },
  {
   "cell_type": "markdown",
   "id": "b13e1552",
   "metadata": {},
   "source": [
    "## TOPIC 4: Modern Hadoop\n",
    "### Part 2"
   ]
  },
  {
   "cell_type": "markdown",
   "id": "b9992bde",
   "metadata": {},
   "source": [
    "### 1. Libraries"
   ]
  },
  {
   "cell_type": "code",
   "execution_count": null,
   "id": "d786bd2d",
   "metadata": {},
   "outputs": [],
   "source": [
    "import os\n",
    "import subprocess"
   ]
  },
  {
   "cell_type": "markdown",
   "id": "ac6e825d",
   "metadata": {},
   "source": [
    "### 2. Preprocessed data"
   ]
  },
  {
   "cell_type": "code",
   "execution_count": null,
   "id": "ae56a704",
   "metadata": {},
   "outputs": [],
   "source": [
    "!hdfs dfs -ls /"
   ]
  },
  {
   "cell_type": "code",
   "execution_count": null,
   "id": "72763c35",
   "metadata": {},
   "outputs": [],
   "source": [
    "!hdfs dfs -ls /jovyan"
   ]
  },
  {
   "cell_type": "markdown",
   "id": "107e0297",
   "metadata": {},
   "source": [
    "### 3. Import data to Hive"
   ]
  },
  {
   "cell_type": "markdown",
   "id": "b6a17589",
   "metadata": {},
   "source": [
    "[The Apache Hive](https://hive.apache.org/) is a distributed, fault-tolerant data warehouse system that enables analytics at a massive scale and facilitates reading, writing, and managing petabytes of data residing in distributed storage __using SQL__."
   ]
  },
  {
   "cell_type": "markdown",
   "id": "4b0e4bdc",
   "metadata": {},
   "source": [
    "__NOTE__ that after loading the data, the source file will be deleted from the source location, and the file loaded to the Hive data warehouse location or to the LOCATION specified while creating a table."
   ]
  },
  {
   "cell_type": "markdown",
   "id": "8ccfed52",
   "metadata": {},
   "source": [
    "#### 3.1. Users table"
   ]
  },
  {
   "cell_type": "code",
   "execution_count": null,
   "id": "86f467d0",
   "metadata": {
    "scrolled": true
   },
   "outputs": [],
   "source": [
    "!hdfs dfs -ls /jovyan/users"
   ]
  },
  {
   "cell_type": "code",
   "execution_count": null,
   "id": "50bda917",
   "metadata": {},
   "outputs": [],
   "source": [
    "def hdfs_dirs(path, filter_str=''):\n",
    "    \"\"\"\n",
    "    Returns files in path provided as a list. \n",
    "    File names may be filtered by `filter_str` parameter,\n",
    "    e.g. `filter_str='csv'` will display only `csv` files.\n",
    "    \n",
    "    \"\"\"\n",
    "    process = subprocess.Popen(\n",
    "        ['hdfs', 'dfs', '-ls', path], \n",
    "        stdout=subprocess.PIPE, \n",
    "        stderr=subprocess.PIPE\n",
    "    )\n",
    "    out, err = process.communicate()\n",
    "    dirs = out.decode('utf-8').split('\\n')\n",
    "    dirs = list(filter(lambda x: filter_str in x, dirs))\n",
    "    dirs = list(map(lambda x: x.split(' ')[-1], dirs))\n",
    "    return dirs"
   ]
  },
  {
   "cell_type": "code",
   "execution_count": null,
   "id": "5eba90c8",
   "metadata": {},
   "outputs": [],
   "source": [
    "users_path = '/jovyan/users'"
   ]
  },
  {
   "cell_type": "code",
   "execution_count": null,
   "id": "4b263bbe",
   "metadata": {},
   "outputs": [],
   "source": [
    "hdfs_dirs(\n",
    "    path=users_path, \n",
    "    filter_str='csv'\n",
    ")"
   ]
  },
  {
   "cell_type": "code",
   "execution_count": null,
   "id": "bb37f7ae",
   "metadata": {},
   "outputs": [],
   "source": [
    "users_file = hdfs_dirs(\n",
    "    path=users_path, \n",
    "    filter_str='csv'\n",
    ")[0].split('/')[-1]"
   ]
  },
  {
   "cell_type": "code",
   "execution_count": null,
   "id": "262b6541",
   "metadata": {},
   "outputs": [],
   "source": [
    "users_file"
   ]
  },
  {
   "cell_type": "code",
   "execution_count": null,
   "id": "cacb8c79",
   "metadata": {},
   "outputs": [],
   "source": [
    "!hdfs dfs -head {users_path}/{users_file}"
   ]
  },
  {
   "cell_type": "markdown",
   "id": "9ad274dc",
   "metadata": {},
   "source": [
    "Read about [Hive data types](https://cwiki.apache.org/confluence/display/Hive/LanguageManual+Types) first."
   ]
  },
  {
   "cell_type": "code",
   "execution_count": null,
   "id": "195ac203",
   "metadata": {},
   "outputs": [],
   "source": [
    "!hive -e \\\n",
    "    \"CREATE TABLE users ( \\\n",
    "        jh_email STRING, \\\n",
    "        jh_login STRING, \\\n",
    "        jh_name STRING) \\\n",
    "    ROW FORMAT DELIMITED FIELDS TERMINATED BY ','\""
   ]
  },
  {
   "cell_type": "code",
   "execution_count": null,
   "id": "5b5f30d8",
   "metadata": {},
   "outputs": [],
   "source": [
    "!touch result.txt"
   ]
  },
  {
   "cell_type": "code",
   "execution_count": null,
   "id": "39453cc4",
   "metadata": {},
   "outputs": [],
   "source": [
    "!echo ---------------------------- >> result.txt"
   ]
  },
  {
   "cell_type": "code",
   "execution_count": null,
   "id": "8adf940d",
   "metadata": {},
   "outputs": [],
   "source": [
    "!hive -S -e \"SELECT * FROM users LIMIT 5\" >> result.txt"
   ]
  },
  {
   "cell_type": "code",
   "execution_count": null,
   "id": "bc1835a1",
   "metadata": {},
   "outputs": [],
   "source": [
    "!hive -e \"LOAD DATA INPATH '{users_path}/{users_file}' OVERWRITE INTO TABLE users\""
   ]
  },
  {
   "cell_type": "code",
   "execution_count": null,
   "id": "8ec4297a",
   "metadata": {},
   "outputs": [],
   "source": [
    "!echo ---------------------------- >> result.txt"
   ]
  },
  {
   "cell_type": "code",
   "execution_count": null,
   "id": "8cd050ab",
   "metadata": {},
   "outputs": [],
   "source": [
    "!hive -S -e \"SELECT * FROM users LIMIT 5\" >> result.txt"
   ]
  },
  {
   "cell_type": "markdown",
   "id": "eefaa6d2",
   "metadata": {},
   "source": [
    "#### 3.2. Instances table"
   ]
  },
  {
   "cell_type": "markdown",
   "id": "2b62e177",
   "metadata": {},
   "source": [
    "### <font color='red'>HOME ASSIGNMENT</font>"
   ]
  },
  {
   "cell_type": "markdown",
   "id": "9e522cb3",
   "metadata": {},
   "source": [
    "#### 3.3. Events table"
   ]
  },
  {
   "cell_type": "markdown",
   "id": "da410508",
   "metadata": {},
   "source": [
    "### <font color='red'>HOME ASSIGNMENT</font>"
   ]
  },
  {
   "cell_type": "markdown",
   "id": "14854805",
   "metadata": {},
   "source": [
    "#### 3.4. Logs table"
   ]
  },
  {
   "cell_type": "code",
   "execution_count": null,
   "id": "d9359e28",
   "metadata": {},
   "outputs": [],
   "source": [
    "!hdfs dfs -ls /jovyan/logs"
   ]
  },
  {
   "cell_type": "code",
   "execution_count": null,
   "id": "b26b4901",
   "metadata": {},
   "outputs": [],
   "source": [
    "logs_path = '/jovyan/logs'"
   ]
  },
  {
   "cell_type": "code",
   "execution_count": null,
   "id": "18e4d39d",
   "metadata": {},
   "outputs": [],
   "source": [
    "logs_file = hdfs_dirs(\n",
    "    path=logs_path, \n",
    "    filter_str='csv'\n",
    ")[0].split('/')[-1]"
   ]
  },
  {
   "cell_type": "code",
   "execution_count": null,
   "id": "a9201cef",
   "metadata": {},
   "outputs": [],
   "source": [
    "logs_file"
   ]
  },
  {
   "cell_type": "code",
   "execution_count": null,
   "id": "189ec884",
   "metadata": {},
   "outputs": [],
   "source": [
    "!hdfs dfs -head {logs_path}/{logs_file}"
   ]
  },
  {
   "cell_type": "code",
   "execution_count": null,
   "id": "809f0902",
   "metadata": {},
   "outputs": [],
   "source": [
    "!hive -e \\\n",
    "    \"CREATE TABLE logs ( \\\n",
    "        jh_timestamp TIMESTAMP, \\\n",
    "        jh_hub STRING, \\\n",
    "        jh_event_code INT, \\\n",
    "        jh_event_type STRING, \\\n",
    "        jh_log STRING, \\\n",
    "        jh_login STRING) \\\n",
    "    ROW FORMAT DELIMITED FIELDS TERMINATED BY ','\""
   ]
  },
  {
   "cell_type": "code",
   "execution_count": null,
   "id": "36f249cd",
   "metadata": {},
   "outputs": [],
   "source": [
    "!hive -e \"LOAD DATA INPATH '{logs_path}/{logs_file}' OVERWRITE INTO TABLE logs\""
   ]
  },
  {
   "cell_type": "code",
   "execution_count": null,
   "id": "b725b8f5",
   "metadata": {},
   "outputs": [],
   "source": [
    "!echo ---------------------------- >> result.txt"
   ]
  },
  {
   "cell_type": "code",
   "execution_count": null,
   "id": "414b08a4",
   "metadata": {},
   "outputs": [],
   "source": [
    "!hive -S -e \"SELECT * FROM logs LIMIT 5\" >> result.txt"
   ]
  },
  {
   "cell_type": "markdown",
   "id": "ab8b81b2",
   "metadata": {},
   "source": [
    "### 4. Test Hive SQL queries"
   ]
  },
  {
   "cell_type": "code",
   "execution_count": null,
   "id": "b467c288",
   "metadata": {},
   "outputs": [],
   "source": [
    "!echo ---------------------------- >> result.txt"
   ]
  },
  {
   "cell_type": "code",
   "execution_count": null,
   "id": "24621fe4",
   "metadata": {},
   "outputs": [],
   "source": [
    "!hive -e \\\n",
    "    \"SELECT \\\n",
    "        ls.jh_timestamp, \\\n",
    "        ls.jh_event_code, \\\n",
    "        us.jh_login, \\\n",
    "        us.jh_name, \\\n",
    "        us.jh_email, \\\n",
    "        ls.jh_log \\\n",
    "    FROM logs AS ls \\\n",
    "    LEFT JOIN users AS us ON ls.jh_login = us.jh_login \\\n",
    "    LIMIT 5\" >> result.txt"
   ]
  },
  {
   "cell_type": "code",
   "execution_count": null,
   "id": "df355716",
   "metadata": {},
   "outputs": [],
   "source": [
    "!echo ---------------------------- >> result.txt\n",
    "!hive -e \\\n",
    "    \"SELECT COUNT(*) FROM logs AS ls \\\n",
    "    LEFT JOIN users AS us ON ls.jh_login = us.jh_login \\\n",
    "    WHERE us.jh_email = 'vgarshin@gsom.spbu.ru' \\\n",
    "    LIMIT 5\" >> result.txt"
   ]
  },
  {
   "cell_type": "markdown",
   "id": "a5290857",
   "metadata": {},
   "source": [
    "### 5. How to drop tables"
   ]
  },
  {
   "cell_type": "markdown",
   "id": "cbbe861a",
   "metadata": {},
   "source": [
    "Answer is - <font color='red'>VERY CAREFULLY!</font>"
   ]
  },
  {
   "cell_type": "code",
   "execution_count": null,
   "id": "564f7ea9",
   "metadata": {},
   "outputs": [],
   "source": [
    "!hive -e \"DROP TABLE IF EXISTS logs\""
   ]
  },
  {
   "cell_type": "markdown",
   "id": "18ac6a4a",
   "metadata": {},
   "source": [
    "### 6. Home assignment"
   ]
  },
  {
   "cell_type": "markdown",
   "id": "2f53eb3e",
   "metadata": {},
   "source": [
    "Your home assignment for this part is:\n",
    "1. Based on PySpark data processing script from part 1 and file with data on logs `~/__DATA/IBDT_Spring_2024/topic_1/jhub_logs.csv` make a full pipeline script\n",
    "2. Make a few SQL queries (see below)"
   ]
  },
  {
   "cell_type": "markdown",
   "id": "034ca502",
   "metadata": {},
   "source": [
    "Run your previous SQL queries from HA #1 to Hive database in order to answer the questions:\n",
    "- how many times jhub restarted (HINT - find all unique hub names, each name is for new instance when it restarts)\n",
    "- how many users are in Jupyter?\n",
    "- sort all types of events from more often to less often\n",
    "- find users (name, email) with more and less activity in the Jupyter (HINT - more logs means more activity)\n",
    "\n",
    "Check that the answers are the same as for HA #1."
   ]
  },
  {
   "cell_type": "code",
   "execution_count": null,
   "id": "cf1332cd",
   "metadata": {},
   "outputs": [],
   "source": []
  },
  {
   "cell_type": "code",
   "execution_count": null,
   "id": "1abbb2ad",
   "metadata": {},
   "outputs": [],
   "source": []
  }
 ],
 "metadata": {
  "kernelspec": {
   "display_name": "Python 3 (ipykernel)",
   "language": "python",
   "name": "python3"
  },
  "language_info": {
   "codemirror_mode": {
    "name": "ipython",
    "version": 3
   },
   "file_extension": ".py",
   "mimetype": "text/x-python",
   "name": "python",
   "nbconvert_exporter": "python",
   "pygments_lexer": "ipython3",
   "version": "3.10.8"
  },
  "varInspector": {
   "cols": {
    "lenName": 16,
    "lenType": 16,
    "lenVar": 40
   },
   "kernels_config": {
    "python": {
     "delete_cmd_postfix": "",
     "delete_cmd_prefix": "del ",
     "library": "var_list.py",
     "varRefreshCmd": "print(var_dic_list())"
    },
    "r": {
     "delete_cmd_postfix": ") ",
     "delete_cmd_prefix": "rm(",
     "library": "var_list.r",
     "varRefreshCmd": "cat(var_dic_list()) "
    }
   },
   "types_to_exclude": [
    "module",
    "function",
    "builtin_function_or_method",
    "instance",
    "_Feature"
   ],
   "window_display": false
  },
  "widgets": {
   "application/vnd.jupyter.widget-state+json": {
    "state": {},
    "version_major": 2,
    "version_minor": 0
   }
  }
 },
 "nbformat": 4,
 "nbformat_minor": 5
}
