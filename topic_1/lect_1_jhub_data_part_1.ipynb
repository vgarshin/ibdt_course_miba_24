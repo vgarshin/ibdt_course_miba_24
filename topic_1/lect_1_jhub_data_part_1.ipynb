{
 "cells": [
  {
   "cell_type": "markdown",
   "id": "9fcfc8fb",
   "metadata": {},
   "source": [
    "# Introduction to Big Data Modern Technologies course"
   ]
  },
  {
   "cell_type": "markdown",
   "id": "0c5f8312",
   "metadata": {},
   "source": [
    "## TOPIC 1: Relational databases practice - explore Jupyter users' activities\n",
    "### Part 1"
   ]
  },
  {
   "cell_type": "markdown",
   "id": "b87db6a8",
   "metadata": {},
   "source": [
    "### 1. Libraries"
   ]
  },
  {
   "cell_type": "code",
   "execution_count": null,
   "id": "fcab506c",
   "metadata": {},
   "outputs": [],
   "source": [
    "!pip install pyarrow\n",
    "!pip install pandas"
   ]
  },
  {
   "cell_type": "code",
   "execution_count": null,
   "id": "ae42dc96",
   "metadata": {},
   "outputs": [],
   "source": [
    "import os\n",
    "import sys\n",
    "import datetime\n",
    "import pandas as pd\n",
    "\n",
    "pd.set_option('display.max_columns', None)"
   ]
  },
  {
   "cell_type": "markdown",
   "id": "6bb37e76",
   "metadata": {},
   "source": [
    "### 2. Raw data"
   ]
  },
  {
   "cell_type": "code",
   "execution_count": null,
   "id": "01e77a77",
   "metadata": {},
   "outputs": [],
   "source": [
    "!ls -la ~/__DATA/IBDT_Spring_2024/topic_1/"
   ]
  },
  {
   "cell_type": "code",
   "execution_count": null,
   "id": "c48a12af",
   "metadata": {},
   "outputs": [],
   "source": [
    "df = pd.read_csv('~/__DATA/IBDT_Spring_2024/topic_1/jhub_logs.csv', sep=';', index_col=False)\n",
    "df.info()"
   ]
  },
  {
   "cell_type": "code",
   "execution_count": null,
   "id": "64f09283",
   "metadata": {},
   "outputs": [],
   "source": [
    "df.head()"
   ]
  },
  {
   "cell_type": "code",
   "execution_count": null,
   "id": "a037061d",
   "metadata": {},
   "outputs": [],
   "source": [
    "df.describe().T"
   ]
  },
  {
   "cell_type": "markdown",
   "id": "5aaade89",
   "metadata": {},
   "source": [
    "### 3. Extract logs of the system"
   ]
  },
  {
   "cell_type": "markdown",
   "id": "c85ef64a",
   "metadata": {},
   "source": [
    "JupyterHub works within Kubernetes cluster, so we extact not only Jupyter logs, but Kubernetes logs too."
   ]
  },
  {
   "cell_type": "markdown",
   "id": "c5f9aab9",
   "metadata": {},
   "source": [
    "#### 3.1. Kubernetes logs"
   ]
  },
  {
   "cell_type": "code",
   "execution_count": null,
   "id": "b35b983c",
   "metadata": {},
   "outputs": [],
   "source": [
    "df.kubernetes[0]"
   ]
  },
  {
   "cell_type": "code",
   "execution_count": null,
   "id": "6336c17a",
   "metadata": {},
   "outputs": [],
   "source": [
    "def row_info(rin):\n",
    "    \"\"\"\n",
    "    Extracts names of:\n",
    "      - docker image\n",
    "      - id of the Jupyter application\n",
    "      - name of the host, where Jupyter runs\n",
    "    \n",
    "    \"\"\"\n",
    "    img = rin[rin.find('container_image='):].split('\\'')[1]\n",
    "    hub = rin[rin.find('pod_name='):].split('\\'')[1]\n",
    "    host = rin[rin.find('host='):].split('\\'')[1]\n",
    "    return img, hub, host"
   ]
  },
  {
   "cell_type": "code",
   "execution_count": null,
   "id": "519f695a",
   "metadata": {},
   "outputs": [],
   "source": [
    "row_info(df.kubernetes[0])"
   ]
  },
  {
   "cell_type": "markdown",
   "id": "8ec34821",
   "metadata": {},
   "source": [
    "#### 3.2. JupyterHub logs"
   ]
  },
  {
   "cell_type": "code",
   "execution_count": null,
   "id": "fe188dc8",
   "metadata": {},
   "outputs": [],
   "source": [
    "df.log[0]"
   ]
  },
  {
   "cell_type": "code",
   "execution_count": null,
   "id": "a5a84573",
   "metadata": {},
   "outputs": [],
   "source": [
    "def sq_brackets(sin):\n",
    "    \"\"\"\n",
    "    Split log string amd extracts:\n",
    "      - timestamp of the event\n",
    "      - name of application\n",
    "      - type of logs\n",
    "      - code of event\n",
    "      - description\n",
    "    \n",
    "    \"\"\"\n",
    "    try:\n",
    "        s = sin.split('[', 1)[1].split(']')[0]\n",
    "        msg = sin[len(s) + 2 :].strip()\n",
    "        s = s.split()\n",
    "        head = s[0]\n",
    "        ts = ' '.join(s[1:3])\n",
    "        svc = s[3]\n",
    "        typ = s[4].split(':')[0]\n",
    "        code = s[4].split(':')[1]\n",
    "    except:\n",
    "        head, ts, svc, typ, code = '', '', '', '', ''\n",
    "        msg = sin\n",
    "    return head, ts, svc, typ, code, msg"
   ]
  },
  {
   "cell_type": "code",
   "execution_count": null,
   "id": "277c05e3",
   "metadata": {},
   "outputs": [],
   "source": [
    "sq_brackets(df.log[0])"
   ]
  },
  {
   "cell_type": "markdown",
   "id": "cb9970ac",
   "metadata": {},
   "source": [
    "#### 3.3. Make a whole dataset"
   ]
  },
  {
   "cell_type": "markdown",
   "id": "3d6519fe",
   "metadata": {},
   "source": [
    "##### 1st way"
   ]
  },
  {
   "cell_type": "code",
   "execution_count": null,
   "id": "9d38f00f",
   "metadata": {},
   "outputs": [],
   "source": [
    "df_applied = df.apply(lambda x: row_info(x.kubernetes), axis='columns', result_type='expand')"
   ]
  },
  {
   "cell_type": "code",
   "execution_count": null,
   "id": "f21df7ac",
   "metadata": {},
   "outputs": [],
   "source": [
    "df_applied.head()"
   ]
  },
  {
   "cell_type": "code",
   "execution_count": null,
   "id": "f0916c02",
   "metadata": {},
   "outputs": [],
   "source": [
    "df_new = pd.concat([df, df_applied], axis='columns')\n",
    "df_new.head()"
   ]
  },
  {
   "cell_type": "markdown",
   "id": "cccf1f50",
   "metadata": {},
   "source": [
    "##### 2nd way (more pythonic)"
   ]
  },
  {
   "cell_type": "code",
   "execution_count": null,
   "id": "bd4f0c9e",
   "metadata": {},
   "outputs": [],
   "source": [
    "df['img'], df['hub'], df['host'] = zip(*df['kubernetes'].map(row_info))\n",
    "df.head()"
   ]
  },
  {
   "cell_type": "code",
   "execution_count": null,
   "id": "deaf5a47",
   "metadata": {},
   "outputs": [],
   "source": [
    "df['head'], df['timestamp'], df['service'], \\\n",
    "    df['event_type'], df['event_code'], df['message'] \\\n",
    "    = zip(*df['log'].map(sq_brackets))\n",
    "df.head()"
   ]
  },
  {
   "cell_type": "code",
   "execution_count": null,
   "id": "f4ca227c",
   "metadata": {},
   "outputs": [],
   "source": [
    "df.message[0]"
   ]
  },
  {
   "cell_type": "markdown",
   "id": "909fd1a0",
   "metadata": {},
   "source": [
    "#### 3.4. Find users' activities (some magic and monkey job)"
   ]
  },
  {
   "cell_type": "code",
   "execution_count": null,
   "id": "313a1146",
   "metadata": {},
   "outputs": [],
   "source": [
    "df.shape"
   ]
  },
  {
   "cell_type": "code",
   "execution_count": null,
   "id": "3d3a6769",
   "metadata": {},
   "outputs": [],
   "source": [
    "df_user = df[df['message'].str.contains(\"vgarshin\")]\n",
    "df_user.shape"
   ]
  },
  {
   "cell_type": "code",
   "execution_count": null,
   "id": "055d9ec8",
   "metadata": {},
   "outputs": [],
   "source": [
    "df_user.head()"
   ]
  },
  {
   "cell_type": "code",
   "execution_count": null,
   "id": "f6f2eb84",
   "metadata": {},
   "outputs": [],
   "source": [
    "df_user.message.values[0]"
   ]
  },
  {
   "cell_type": "code",
   "execution_count": null,
   "id": "bc25c82e",
   "metadata": {},
   "outputs": [],
   "source": [
    "df[df['message'].str.contains(\"start\")]"
   ]
  },
  {
   "cell_type": "code",
   "execution_count": null,
   "id": "653720e9",
   "metadata": {},
   "outputs": [],
   "source": [
    "df.event_code.value_counts()"
   ]
  },
  {
   "cell_type": "code",
   "execution_count": null,
   "id": "c56590fe",
   "metadata": {},
   "outputs": [],
   "source": [
    "event_codes = df.event_code.unique()\n",
    "event_codes"
   ]
  },
  {
   "cell_type": "code",
   "execution_count": null,
   "id": "536a253e",
   "metadata": {
    "tags": []
   },
   "outputs": [],
   "source": [
    "for ec in event_codes:\n",
    "    print('code', ec)\n",
    "    print(df[df.event_code == ec].message.values[0])\n",
    "    try:\n",
    "        print(df[df.event_code == ec].message.values[1])\n",
    "    except:\n",
    "        print('only one record')\n",
    "    print('-' * 50)"
   ]
  },
  {
   "cell_type": "code",
   "execution_count": null,
   "id": "8ff307f3",
   "metadata": {},
   "outputs": [],
   "source": [
    "def parce_users_activities(row):\n",
    "    \"\"\"\n",
    "    Ugly function.\n",
    "    \n",
    "    You may use dictionary to make it\n",
    "    more pythonic or something else.\n",
    "    \n",
    "    \"\"\"\n",
    "    code = row['event_code']\n",
    "    msg = row['message']\n",
    "    if code in ['43', '44']:\n",
    "        user = msg.split()[-1]\n",
    "        log = 'logged out'\n",
    "    elif code in ['61', '85', '111']:\n",
    "        user = msg.split()[3]\n",
    "        log = 'spawning sever with advanced configuration option'\n",
    "    elif code == '148':\n",
    "        user = msg.split()[-1]\n",
    "        log = 'user is running'\n",
    "    elif code == '167':\n",
    "        user = msg.split()[1]\n",
    "        log = 'server is already active'\n",
    "    if code == '238':\n",
    "        user = msg.split()[-1]\n",
    "        log = 'adding role for user'\n",
    "    elif code in ['257', '333']:\n",
    "        user = msg.split()[2]\n",
    "        log = 'adding user to proxy'\n",
    "    elif code in ['281', '359']:\n",
    "        user = msg.split()[2]\n",
    "        log = 'removing user from proxy'\n",
    "    elif code == '361':\n",
    "        user = msg.split()[1]\n",
    "        log = 'user requested new auth token'\n",
    "    elif code == '380':\n",
    "        user = msg.split()[3]\n",
    "        log = 'previous spawn failed'\n",
    "    elif code in ['402', '394']:\n",
    "        user = msg.split()[0]\n",
    "        log = 'pending spawn'\n",
    "    elif code == '567':\n",
    "        user = msg.split('/')[4]\n",
    "        log = 'stream closed while handling '\n",
    "    elif code == '626':\n",
    "        user = msg.split()[1]\n",
    "        log = 'server is already started'\n",
    "    elif code == '651':\n",
    "        user = msg.split('-')[2]\n",
    "        log = 'creating oauth client for user'\n",
    "    elif code in ['664', '749']:\n",
    "        user = msg.split()[1]\n",
    "        log = 'server is ready'\n",
    "    elif code == '681':\n",
    "        user = msg.split()[0].replace('\\'s', '')\n",
    "        log = 'server failed to start'\n",
    "    elif code == '689':\n",
    "        user = msg.split()[3].replace('\\'s', '')\n",
    "        log = 'unhandled error starting with timeout'\n",
    "    elif code == '738':\n",
    "        user = msg.split()[0].replace(',', '').replace('\\'s', '')\n",
    "        log = 'server never showed up and giving up'\n",
    "    elif code in ['757', '810']:\n",
    "        user = msg.split()[-1]\n",
    "        log = 'logged in'\n",
    "    elif code in ['904', '963']:\n",
    "        user = msg.split()[1]\n",
    "        log = 'server took time to start'\n",
    "    elif code in ['1067', '2022']:\n",
    "        user = msg.split()[1]\n",
    "        log = 'user server stopped with exit code 1'\n",
    "    elif code in ['1110', '1170']:\n",
    "        user = msg.split()[1]\n",
    "        log = 'server took time to stop'\n",
    "    elif code in ['1143', '1203']:\n",
    "        user = msg.split()[1].replace(':', '')\n",
    "        log = 'server is slow to stop'\n",
    "    elif code in ['1344', '1409']:\n",
    "        user = msg.split('/')[3]\n",
    "        log = 'failing suspected api request to not-running server'\n",
    "    elif code in ['1143', '1203']:\n",
    "        user = msg.split()[1].replace('/', '')\n",
    "        log = 'server is slow to stop'\n",
    "    elif code == '1415':\n",
    "        user = msg.split()[-1]\n",
    "        log = 'admin requesting spawn on behalf'\n",
    "    elif code == '1437':\n",
    "        user = msg.split()[1]\n",
    "        log = 'user requested server which user do not own'\n",
    "    elif code == '1840':\n",
    "        user = msg.split()[4].replace('jupyter-', '').replace(',', '')\n",
    "        log = 'attempting to create pod with timeout'\n",
    "    elif code == '1857':\n",
    "        user = msg.split()[3].replace('jupyter-', '').replace(',', '')\n",
    "        log = 'found existing pod and attempting to kill'\n",
    "    elif code == '1861':\n",
    "        user = msg.split()[2].replace('jupyter-', '').replace(',', '')\n",
    "        log = 'killed pod and will try starting singleuser pod again'\n",
    "    elif code in ['1875', '2469', '2509']:\n",
    "        user = msg.split()[4].replace('claim-', '').replace('jupyter-', '').replace(',', '')\n",
    "        log = 'attempt to create pvc with timeout'\n",
    "    elif code in ['1887', '2525']:\n",
    "        user = msg.split()[1].replace('claim-', '')\n",
    "        log = 'pvc already exists'\n",
    "    elif code in ['1961', '2044']:\n",
    "        user = msg.split()[1].replace('jupyter-', '')\n",
    "        log = 'restarting pod reflector'\n",
    "    elif code in ['1997', '2780']:\n",
    "        user = msg.split('-')[-1]\n",
    "        log = 'deleting pod'\n",
    "    elif code == '2069':\n",
    "        user = msg.split()[0].replace(',', '')\n",
    "        log = 'user does not appear to be running and shutting it down'  \n",
    "    elif code in ['2077', '2504']:\n",
    "        user = msg.split()[0]\n",
    "        log = 'still running'\n",
    "    elif code == '2085':\n",
    "        user = msg.split()[0]\n",
    "        log = 'server appears to have stopped while the hub was down'\n",
    "    elif code == '2170':\n",
    "        user = msg.split('-')[-1]\n",
    "        log = 'deleting oauth client'\n",
    "    else:\n",
    "        user, log = '', ''\n",
    "    return user, log"
   ]
  },
  {
   "cell_type": "code",
   "execution_count": null,
   "id": "4c028b10",
   "metadata": {},
   "outputs": [],
   "source": [
    "df['user'], df['log'] = zip(*df.apply(parce_users_activities, axis=1))\n",
    "df.head()"
   ]
  },
  {
   "cell_type": "code",
   "execution_count": null,
   "id": "92d63b72",
   "metadata": {},
   "outputs": [],
   "source": [
    "df[df.user != ''].head()"
   ]
  },
  {
   "cell_type": "code",
   "execution_count": null,
   "id": "a741d3c2",
   "metadata": {},
   "outputs": [],
   "source": [
    "df = df.loc[df.user != '', [\n",
    "    'timestamp',\n",
    "    'hub',\n",
    "    'img',\n",
    "    'host',\n",
    "    'event_code',\n",
    "    'event_type',\n",
    "    'log',\n",
    "    'user'\n",
    "]].reset_index(drop=True)\n",
    "\n",
    "df.head()"
   ]
  },
  {
   "cell_type": "code",
   "execution_count": null,
   "id": "f448a406",
   "metadata": {
    "scrolled": true
   },
   "outputs": [],
   "source": [
    "df.user.unique()"
   ]
  },
  {
   "cell_type": "code",
   "execution_count": null,
   "id": "2759c4bc",
   "metadata": {},
   "outputs": [],
   "source": [
    "df.hub.unique()"
   ]
  },
  {
   "cell_type": "code",
   "execution_count": null,
   "id": "2dfad1b8",
   "metadata": {},
   "outputs": [],
   "source": [
    "df.host.unique()"
   ]
  },
  {
   "cell_type": "markdown",
   "id": "c77e1d00",
   "metadata": {},
   "source": [
    "### 4. Normalize data"
   ]
  },
  {
   "cell_type": "code",
   "execution_count": null,
   "id": "4581ff38",
   "metadata": {},
   "outputs": [],
   "source": [
    "df.info()"
   ]
  },
  {
   "cell_type": "code",
   "execution_count": null,
   "id": "84521bfc",
   "metadata": {},
   "outputs": [],
   "source": [
    "df.shape"
   ]
  },
  {
   "cell_type": "markdown",
   "id": "53f7e6bd",
   "metadata": {},
   "source": [
    "#### 4.1. Users table"
   ]
  },
  {
   "cell_type": "code",
   "execution_count": null,
   "id": "027d4495",
   "metadata": {
    "tags": []
   },
   "outputs": [],
   "source": [
    "logins = df.user.unique()\n",
    "print(len(logins))\n",
    "logins"
   ]
  },
  {
   "cell_type": "markdown",
   "id": "684103ca",
   "metadata": {},
   "source": [
    "Use `names` library https://pypi.org/project/names/"
   ]
  },
  {
   "cell_type": "code",
   "execution_count": null,
   "id": "48258917",
   "metadata": {},
   "outputs": [],
   "source": [
    "!pip install names"
   ]
  },
  {
   "cell_type": "code",
   "execution_count": null,
   "id": "d7ba9e9f",
   "metadata": {},
   "outputs": [],
   "source": [
    "import names"
   ]
  },
  {
   "cell_type": "code",
   "execution_count": null,
   "id": "fe975d83",
   "metadata": {},
   "outputs": [],
   "source": [
    "users = []\n",
    "for login in logins:\n",
    "    user = {}\n",
    "    user['login'] = login\n",
    "    user['name'] = names.get_full_name()\n",
    "    user['email'] = login + '@gsom.spbu.ru'\n",
    "    users.append(user)\n",
    "users[0]"
   ]
  },
  {
   "cell_type": "code",
   "execution_count": null,
   "id": "0c664a14",
   "metadata": {},
   "outputs": [],
   "source": [
    "df_users = pd.DataFrame(users)\n",
    "df_users.head()"
   ]
  },
  {
   "cell_type": "code",
   "execution_count": null,
   "id": "edf58063",
   "metadata": {},
   "outputs": [],
   "source": [
    "df.shape"
   ]
  },
  {
   "cell_type": "code",
   "execution_count": null,
   "id": "587326ca",
   "metadata": {},
   "outputs": [],
   "source": [
    "df_users.to_csv('users.csv', sep=';', encoding='utf-8', index=False)"
   ]
  },
  {
   "cell_type": "markdown",
   "id": "f0343eb8",
   "metadata": {},
   "source": [
    "#### 4.2. JupyterHub instances table"
   ]
  },
  {
   "cell_type": "code",
   "execution_count": null,
   "id": "931f9b87",
   "metadata": {},
   "outputs": [],
   "source": [
    "df_instances = df[[\n",
    "    'hub',\n",
    "    'img',\n",
    "    'host'\n",
    "]].reset_index(drop=True)\n",
    "df_instances.head()"
   ]
  },
  {
   "cell_type": "code",
   "execution_count": null,
   "id": "f76192ed",
   "metadata": {},
   "outputs": [],
   "source": [
    "df_instances.shape"
   ]
  },
  {
   "cell_type": "code",
   "execution_count": null,
   "id": "c10aafa4",
   "metadata": {},
   "outputs": [],
   "source": [
    "df_instances.drop_duplicates(inplace=True)\n",
    "df_instances.reset_index(drop=True, inplace=True)\n",
    "df_instances.shape"
   ]
  },
  {
   "cell_type": "code",
   "execution_count": null,
   "id": "f1f46a10",
   "metadata": {},
   "outputs": [],
   "source": [
    "df_instances.head()"
   ]
  },
  {
   "cell_type": "code",
   "execution_count": null,
   "id": "d85ba4a1",
   "metadata": {},
   "outputs": [],
   "source": [
    "df_instances.to_csv('instances.csv', sep=';', encoding='utf-8', index=False)"
   ]
  },
  {
   "cell_type": "markdown",
   "id": "f079cac0",
   "metadata": {},
   "source": [
    "#### 4.3. JupyterHub events table"
   ]
  },
  {
   "cell_type": "markdown",
   "id": "d706a1a1",
   "metadata": {},
   "source": [
    "### <font color='red'>HOME ASSIGNMENT</font>"
   ]
  },
  {
   "cell_type": "code",
   "execution_count": null,
   "id": "44af16c9",
   "metadata": {},
   "outputs": [],
   "source": [
    "# Your code will be here\n",
    "# create a table `events` with columns `event_code`, `event_type`, `log`\n",
    "# drop duplicates and save it to CSV file to import to database later "
   ]
  },
  {
   "cell_type": "markdown",
   "id": "748b7c34",
   "metadata": {},
   "source": [
    "#### 4.4. JupyterHub logs table"
   ]
  },
  {
   "cell_type": "code",
   "execution_count": null,
   "id": "0c641efa",
   "metadata": {},
   "outputs": [],
   "source": [
    "df.head()"
   ]
  },
  {
   "cell_type": "code",
   "execution_count": null,
   "id": "e0197e2b",
   "metadata": {},
   "outputs": [],
   "source": [
    "# NOTE that it is an example\n",
    "# you will need to keep only `event_code` column as a key\n",
    "# and remove `event_type` and `log` columns\n",
    "# for data normalization\n",
    "\n",
    "df_logs = df[[\n",
    "    'timestamp',\n",
    "    'hub',\n",
    "    'event_code',\n",
    "    'event_type',   # to be removed\n",
    "    'log',          # to be removed\n",
    "    'user'\n",
    "]].reset_index(drop=True)\n",
    "df_logs.head()"
   ]
  },
  {
   "cell_type": "code",
   "execution_count": null,
   "id": "e489d6a7",
   "metadata": {},
   "outputs": [],
   "source": [
    "df_logs.index.name = 'idx'\n",
    "df_logs.to_csv('logs.csv', sep=';', encoding='utf-8', index=True)"
   ]
  },
  {
   "cell_type": "markdown",
   "id": "8b555bd1",
   "metadata": {},
   "source": [
    "### 5. Toy ETL pipeline"
   ]
  },
  {
   "cell_type": "markdown",
   "id": "d9cd2cc1",
   "metadata": {},
   "source": [
    "Will create a script like a true data engineers!"
   ]
  },
  {
   "cell_type": "markdown",
   "id": "a6a6a9e1",
   "metadata": {},
   "source": [
    "### 6. Home assignment"
   ]
  },
  {
   "cell_type": "markdown",
   "id": "fcab6236",
   "metadata": {},
   "source": [
    "Your home assignment for this part is:\n",
    "1. Take large file with data on logs `~/__DATA/IBDT_Spring_2023/topic_1/jhub_logs_large.csv`\n",
    "2. Create a table for events (see `4.3. JupyterHub events table`) and save it as `csv` like we did with `users` and `instances` tables\n",
    "3. Check your script for the pipeline"
   ]
  },
  {
   "cell_type": "code",
   "execution_count": null,
   "id": "8784872e",
   "metadata": {},
   "outputs": [],
   "source": []
  }
 ],
 "metadata": {
  "kernelspec": {
   "display_name": "Python 3 (ipykernel)",
   "language": "python",
   "name": "python3"
  },
  "language_info": {
   "codemirror_mode": {
    "name": "ipython",
    "version": 3
   },
   "file_extension": ".py",
   "mimetype": "text/x-python",
   "name": "python",
   "nbconvert_exporter": "python",
   "pygments_lexer": "ipython3",
   "version": "3.10.9"
  },
  "widgets": {
   "application/vnd.jupyter.widget-state+json": {
    "state": {},
    "version_major": 2,
    "version_minor": 0
   }
  }
 },
 "nbformat": 4,
 "nbformat_minor": 5
}
