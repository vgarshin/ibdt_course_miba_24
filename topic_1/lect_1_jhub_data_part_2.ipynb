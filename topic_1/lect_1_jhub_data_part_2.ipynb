{
 "cells": [
  {
   "cell_type": "markdown",
   "id": "8a06e44a",
   "metadata": {},
   "source": [
    "# Introduction to Big Data Modern Technologies course"
   ]
  },
  {
   "cell_type": "markdown",
   "id": "c5aab922",
   "metadata": {},
   "source": [
    "## TOPIC 1: Relational databases practice - explore Jupyter users' activities\n",
    "### Part 2"
   ]
  },
  {
   "cell_type": "markdown",
   "id": "9db7f5f2",
   "metadata": {},
   "source": [
    "### 1. Libraries"
   ]
  },
  {
   "cell_type": "code",
   "execution_count": null,
   "id": "22926862",
   "metadata": {},
   "outputs": [],
   "source": [
    "%load_ext sql"
   ]
  },
  {
   "cell_type": "code",
   "execution_count": null,
   "id": "fbf1afd5",
   "metadata": {},
   "outputs": [],
   "source": [
    "import os\n",
    "import sys"
   ]
  },
  {
   "cell_type": "markdown",
   "id": "6a1680c9",
   "metadata": {},
   "source": [
    "### 2. Create database and tables"
   ]
  },
  {
   "cell_type": "markdown",
   "id": "207d4c2f",
   "metadata": {},
   "source": [
    "#### 2.1. Create database"
   ]
  },
  {
   "cell_type": "markdown",
   "id": "ff745983",
   "metadata": {},
   "source": [
    "You may need a [PostgreSQL manual](https://www.postgresql.org/docs/current/sql-createdatabase.html) to create a table and read about [data types](https://www.postgresql.org/docs/current/datatype.html)"
   ]
  },
  {
   "cell_type": "code",
   "execution_count": null,
   "id": "097ec41c",
   "metadata": {},
   "outputs": [],
   "source": [
    "%%sql postgresql:///jovyan\n",
    "    SELECT * FROM pg_database"
   ]
  },
  {
   "cell_type": "code",
   "execution_count": null,
   "id": "155a5373-051c-4965-b5fb-0cecc6b5f35a",
   "metadata": {
    "tags": []
   },
   "outputs": [],
   "source": [
    "!ls"
   ]
  },
  {
   "cell_type": "code",
   "execution_count": null,
   "id": "bcf56d81",
   "metadata": {},
   "outputs": [],
   "source": [
    "!psql -c 'create database test;'"
   ]
  },
  {
   "cell_type": "code",
   "execution_count": null,
   "id": "0de480f9",
   "metadata": {},
   "outputs": [],
   "source": [
    "%%sql postgresql:///test\n",
    "    SELECT tablename AS table FROM pg_tables WHERE tablename !~ '^(pg_|sql_)'"
   ]
  },
  {
   "cell_type": "markdown",
   "id": "efdd2042",
   "metadata": {},
   "source": [
    "#### 2.2. Create tables"
   ]
  },
  {
   "cell_type": "markdown",
   "id": "9950a286",
   "metadata": {},
   "source": [
    "Our data sample:\n",
    "\n",
    "| login | name | email |\n",
    "| --- | --- | --- |\n",
    "| st070392 | Jennifer Brown | st070392@gsom.spbu.ru |"
   ]
  },
  {
   "cell_type": "code",
   "execution_count": null,
   "id": "705a4a83",
   "metadata": {},
   "outputs": [],
   "source": [
    "%%sql postgresql:///test\n",
    "    CREATE TABLE users (\n",
    "        login varchar(32) NOT NULL, \n",
    "        name varchar(128), \n",
    "        email varchar(128)\n",
    "    );"
   ]
  },
  {
   "cell_type": "code",
   "execution_count": null,
   "id": "b1ae3b22",
   "metadata": {},
   "outputs": [],
   "source": [
    "!ls -la"
   ]
  },
  {
   "cell_type": "code",
   "execution_count": null,
   "id": "54578caa",
   "metadata": {},
   "outputs": [],
   "source": [
    "!pwd"
   ]
  },
  {
   "cell_type": "code",
   "execution_count": null,
   "id": "b19aa2ba",
   "metadata": {},
   "outputs": [],
   "source": [
    "path_to_file = '/home/jovyan/ibdt_course_miba_24/topic_1/users.csv'"
   ]
  },
  {
   "cell_type": "code",
   "execution_count": null,
   "id": "883c9497",
   "metadata": {},
   "outputs": [],
   "source": [
    "%%sql postgresql:///test\n",
    "    COPY users FROM '/home/jovyan/ibdt_course_miba_24/topic_1/users.csv' DELIMITER ';' CSV HEADER"
   ]
  },
  {
   "cell_type": "code",
   "execution_count": null,
   "id": "8ebd2521",
   "metadata": {},
   "outputs": [],
   "source": [
    "%%sql postgresql:///test\n",
    "    SELECT * FROM users LIMIT 5"
   ]
  },
  {
   "cell_type": "markdown",
   "id": "9b32507e",
   "metadata": {},
   "source": [
    "#### 2.3. Create everything like a pro"
   ]
  },
  {
   "cell_type": "markdown",
   "id": "07aa0d2b",
   "metadata": {},
   "source": [
    "Feel like a data engineer"
   ]
  },
  {
   "cell_type": "code",
   "execution_count": null,
   "id": "ff1d8d32",
   "metadata": {},
   "outputs": [],
   "source": [
    "!psql -l"
   ]
  },
  {
   "cell_type": "markdown",
   "id": "58d037fe",
   "metadata": {},
   "source": [
    "Use `psql` client https://www.postgresql.org/docs/current/app-psql.html"
   ]
  },
  {
   "cell_type": "code",
   "execution_count": null,
   "id": "3f0bc9d4",
   "metadata": {},
   "outputs": [],
   "source": [
    "!psql -c 'create database jhub;'"
   ]
  },
  {
   "cell_type": "markdown",
   "id": "ec3b6eda",
   "metadata": {},
   "source": [
    "##### Users"
   ]
  },
  {
   "cell_type": "code",
   "execution_count": null,
   "id": "6d7451d6",
   "metadata": {},
   "outputs": [],
   "source": [
    "!psql -d jhub -c 'CREATE TABLE users (login varchar(32) NOT NULL, name varchar(128), email varchar(128));'"
   ]
  },
  {
   "cell_type": "code",
   "execution_count": null,
   "id": "dad1db50",
   "metadata": {},
   "outputs": [],
   "source": [
    "%%sql postgresql:///jhub\n",
    "    SELECT tablename AS table FROM pg_tables WHERE tablename !~ '^(pg_|sql_)'"
   ]
  },
  {
   "cell_type": "code",
   "execution_count": null,
   "id": "d15ddecc",
   "metadata": {},
   "outputs": [],
   "source": [
    "!psql -d jhub \\\n",
    "    -c \"COPY users FROM '/home/jovyan/ibdt_course_miba_24/topic_1/users.csv' \\\n",
    "    DELIMITER ';' CSV HEADER\""
   ]
  },
  {
   "cell_type": "code",
   "execution_count": null,
   "id": "924a8057",
   "metadata": {},
   "outputs": [],
   "source": [
    "!psql -d jhub -c 'SELECT * FROM users LIMIT 5;'"
   ]
  },
  {
   "cell_type": "markdown",
   "id": "b2829806",
   "metadata": {},
   "source": [
    "##### Instances"
   ]
  },
  {
   "cell_type": "markdown",
   "id": "7659c881",
   "metadata": {},
   "source": [
    "### <font color='red'>HOME ASSIGNMENT</font>"
   ]
  },
  {
   "cell_type": "markdown",
   "id": "416be182",
   "metadata": {},
   "source": [
    "##### Events"
   ]
  },
  {
   "cell_type": "markdown",
   "id": "ce878a82",
   "metadata": {},
   "source": [
    "### <font color='red'>HOME ASSIGNMENT</font>"
   ]
  },
  {
   "cell_type": "markdown",
   "id": "9012e561",
   "metadata": {},
   "source": [
    "##### Logs"
   ]
  },
  {
   "cell_type": "markdown",
   "id": "202befaf",
   "metadata": {},
   "source": [
    "| idx | timestamp | hub | event_code | event_type | log | user |\n",
    "| --- | --- | --- | --- | --- | --- | --- |\n",
    "| 0 | 2022-11-09 06:06:00.909 | hub-5bb9b9c56c-s958d | 43 | login | logged out | st070392 |"
   ]
  },
  {
   "cell_type": "code",
   "execution_count": null,
   "id": "c4f76a3d",
   "metadata": {},
   "outputs": [],
   "source": [
    "!psql -d jhub -c 'DROP TABLE logs'"
   ]
  },
  {
   "cell_type": "code",
   "execution_count": null,
   "id": "dbc7602f",
   "metadata": {},
   "outputs": [],
   "source": [
    "!psql -d jhub -c 'CREATE TABLE logs ( \\\n",
    "    idx bigint primary key, \\\n",
    "    timestamp timestamp, \\\n",
    "    hub varchar(20), \\\n",
    "    event_code bigint, \\\n",
    "    event_type varchar(32), \\\n",
    "    log varchar(512), \\\n",
    "    login varchar(32) \\\n",
    ");'"
   ]
  },
  {
   "cell_type": "code",
   "execution_count": null,
   "id": "d3c309a6",
   "metadata": {},
   "outputs": [],
   "source": [
    "!psql -d jhub \\\n",
    "    -c \"COPY logs FROM '/home/jovyan/ibdt_course_miba_24/topic_1/logs.csv' \\\n",
    "    DELIMITER ';' CSV HEADER\""
   ]
  },
  {
   "cell_type": "code",
   "execution_count": null,
   "id": "0fc38a8e",
   "metadata": {},
   "outputs": [],
   "source": [
    "!psql -d jhub -c 'SELECT * FROM logs LIMIT 5;'"
   ]
  },
  {
   "cell_type": "markdown",
   "id": "c43dc753",
   "metadata": {},
   "source": [
    "### 3. Test our database"
   ]
  },
  {
   "cell_type": "code",
   "execution_count": null,
   "id": "394d1bbc",
   "metadata": {
    "tags": []
   },
   "outputs": [],
   "source": [
    "!psql"
   ]
  },
  {
   "cell_type": "code",
   "execution_count": null,
   "id": "79249933",
   "metadata": {},
   "outputs": [],
   "source": [
    "%%sql postgresql:///jhub\n",
    "    SELECT ls.idx, ls.timestamp, ls.event_code, us.login, us.name, us.email, ls.log FROM logs AS ls\n",
    "    LEFT JOIN users AS us ON ls.login = us.login\n",
    "    LIMIT 5;"
   ]
  },
  {
   "cell_type": "code",
   "execution_count": null,
   "id": "7c62ba1d",
   "metadata": {},
   "outputs": [],
   "source": [
    "%%sql postgresql:///jhub\n",
    "    SELECT * FROM logs AS ls\n",
    "    LEFT JOIN users AS us ON ls.login = us.login\n",
    "    WHERE us.email = 'vgarshin@gsom.spbu.ru'\n",
    "    LIMIT 5;"
   ]
  },
  {
   "cell_type": "markdown",
   "id": "0e634c05",
   "metadata": {},
   "source": [
    "### 4. Home assignment"
   ]
  },
  {
   "cell_type": "markdown",
   "id": "3973c782",
   "metadata": {},
   "source": [
    "Your home assignment for this part is:\n",
    "1. Based on Python data processing script from part 1 and file with data on logs `~/__DATA/IBDT_Spring_2023/topic_1/jhub_logs_large.csv` make a full pipeline Bash script\n",
    "2. Draw a logical scheme of your database (with Word, Excel, PowerPoint, pen and paper...)\n",
    "3. Answer a questions below with use of SQL"
   ]
  },
  {
   "cell_type": "markdown",
   "id": "e94d71ac",
   "metadata": {},
   "source": [
    "Questions to answer with SQL queries to database:\n",
    "- how many times jhub restarted (HINT - find all unique hub names, each name is for new instance when it restarts)\n",
    "- how many users are in Jupyter?\n",
    "- sort all types of events from more often to less often\n",
    "- find users (name, email) with more and less activity in the Jupyter (HINT - more logs means more activity)"
   ]
  },
  {
   "cell_type": "code",
   "execution_count": null,
   "id": "3c4cbae9",
   "metadata": {},
   "outputs": [],
   "source": []
  }
 ],
 "metadata": {
  "kernelspec": {
   "display_name": "Python 3 (ipykernel)",
   "language": "python",
   "name": "python3"
  },
  "language_info": {
   "codemirror_mode": {
    "name": "ipython",
    "version": 3
   },
   "file_extension": ".py",
   "mimetype": "text/x-python",
   "name": "python",
   "nbconvert_exporter": "python",
   "pygments_lexer": "ipython3",
   "version": "3.9.7"
  },
  "widgets": {
   "application/vnd.jupyter.widget-state+json": {
    "state": {},
    "version_major": 2,
    "version_minor": 0
   }
  }
 },
 "nbformat": 4,
 "nbformat_minor": 5
}
