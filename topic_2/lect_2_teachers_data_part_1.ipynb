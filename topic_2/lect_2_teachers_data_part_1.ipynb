{
 "cells": [
  {
   "cell_type": "markdown",
   "id": "34c86042",
   "metadata": {},
   "source": [
    "# Introduction to Big Data Modern Technologies course"
   ]
  },
  {
   "cell_type": "markdown",
   "id": "748e3f0a",
   "metadata": {},
   "source": [
    "## TOPIC 2: NoSQL databases practice - MongoDB\n",
    "### Part 1"
   ]
  },
  {
   "cell_type": "markdown",
   "id": "87cce9c6",
   "metadata": {},
   "source": [
    "### 1. Libraries"
   ]
  },
  {
   "cell_type": "code",
   "execution_count": null,
   "id": "4088ceac",
   "metadata": {},
   "outputs": [],
   "source": [
    "import os\n",
    "import sys\n",
    "import json\n",
    "import pymongo"
   ]
  },
  {
   "cell_type": "markdown",
   "id": "8c290633",
   "metadata": {},
   "source": [
    "Python library [PyMongo](https://pymongo.readthedocs.io) is used to get access to MongoDB demo database. The first step when working with PyMongo is to create a MongoClient to the running mongod instance:"
   ]
  },
  {
   "cell_type": "code",
   "execution_count": null,
   "id": "a6883869",
   "metadata": {},
   "outputs": [],
   "source": [
    "from pymongo import MongoClient\n",
    "\n",
    "client = MongoClient() # default setting\n",
    "client"
   ]
  },
  {
   "cell_type": "markdown",
   "id": "e503cf2d",
   "metadata": {},
   "source": [
    "### 2. MongoClient"
   ]
  },
  {
   "cell_type": "code",
   "execution_count": null,
   "id": "40f71548",
   "metadata": {},
   "outputs": [],
   "source": [
    "client.server_info()"
   ]
  },
  {
   "cell_type": "code",
   "execution_count": null,
   "id": "a1bfccab",
   "metadata": {},
   "outputs": [],
   "source": [
    "client.HOST"
   ]
  },
  {
   "cell_type": "code",
   "execution_count": null,
   "id": "76235184",
   "metadata": {},
   "outputs": [],
   "source": [
    "client.nodes"
   ]
  },
  {
   "cell_type": "code",
   "execution_count": null,
   "id": "ec8a614e",
   "metadata": {},
   "outputs": [],
   "source": [
    "client.list_database_names()"
   ]
  },
  {
   "cell_type": "markdown",
   "id": "e13ad03b",
   "metadata": {},
   "source": [
    "### 3. Databases and collections"
   ]
  },
  {
   "cell_type": "code",
   "execution_count": null,
   "id": "b9144a83",
   "metadata": {},
   "outputs": [],
   "source": [
    "db = client['testdb']\n",
    "db"
   ]
  },
  {
   "cell_type": "markdown",
   "id": "c3383368",
   "metadata": {},
   "source": [
    "A collection is a group of documents stored in MongoDB, and can be thought of as roughly the equivalent of a table in a relational database. Here is an example how to get a collection:"
   ]
  },
  {
   "cell_type": "code",
   "execution_count": null,
   "id": "838da916",
   "metadata": {},
   "outputs": [],
   "source": [
    "collection = db['test_collection']\n",
    "collection"
   ]
  },
  {
   "cell_type": "code",
   "execution_count": null,
   "id": "03a3c907",
   "metadata": {},
   "outputs": [],
   "source": [
    "db.list_collection_names()"
   ]
  },
  {
   "cell_type": "markdown",
   "id": "36c3ddd8",
   "metadata": {},
   "source": [
    "### 4. Working with documents"
   ]
  },
  {
   "cell_type": "markdown",
   "id": "a5156d92",
   "metadata": {},
   "source": [
    "#### 4.1. Look at the data first"
   ]
  },
  {
   "cell_type": "markdown",
   "id": "efda8fa9",
   "metadata": {},
   "source": [
    "We use data from SPBU site about teachers of the University."
   ]
  },
  {
   "cell_type": "code",
   "execution_count": null,
   "id": "904257c7",
   "metadata": {},
   "outputs": [],
   "source": [
    "!ls -la ~/__DATA/IBDT_Spring_2024/topic_2"
   ]
  },
  {
   "cell_type": "code",
   "execution_count": null,
   "id": "c74d0d4b",
   "metadata": {},
   "outputs": [],
   "source": [
    "file_path = '/home/jovyan/__DATA/IBDT_Spring_2024/topic_2/teachers-20240301.json'\n",
    "with open(file_path, 'r') as file:\n",
    "    data = json.load(file)"
   ]
  },
  {
   "cell_type": "code",
   "execution_count": null,
   "id": "669b72bc",
   "metadata": {},
   "outputs": [],
   "source": [
    "type(data)"
   ]
  },
  {
   "cell_type": "code",
   "execution_count": null,
   "id": "09b8490a",
   "metadata": {},
   "outputs": [],
   "source": [
    "data[0]"
   ]
  },
  {
   "cell_type": "code",
   "execution_count": null,
   "id": "a3817c57",
   "metadata": {},
   "outputs": [],
   "source": [
    "print('total records:', len(data))"
   ]
  },
  {
   "cell_type": "code",
   "execution_count": null,
   "id": "83ea0b7a",
   "metadata": {},
   "outputs": [],
   "source": [
    "data[-1]"
   ]
  },
  {
   "cell_type": "markdown",
   "id": "06487f8c",
   "metadata": {},
   "source": [
    "#### 4.2. Insert a single document"
   ]
  },
  {
   "cell_type": "markdown",
   "id": "eba0e191",
   "metadata": {},
   "source": [
    "Data in MongoDB is represented (and stored) using JSON-style documents (we know it as Python dictionary). Let's look at single instance of our data first:"
   ]
  },
  {
   "cell_type": "code",
   "execution_count": null,
   "id": "b99ccd7d",
   "metadata": {},
   "outputs": [],
   "source": [
    "one_doc = data[0]\n",
    "one_doc"
   ]
  },
  {
   "cell_type": "code",
   "execution_count": null,
   "id": "c1b0defb",
   "metadata": {},
   "outputs": [],
   "source": [
    "type(one_doc)"
   ]
  },
  {
   "cell_type": "code",
   "execution_count": null,
   "id": "0a896137",
   "metadata": {},
   "outputs": [],
   "source": [
    "one_doc.keys()"
   ]
  },
  {
   "cell_type": "code",
   "execution_count": null,
   "id": "2a30c13b",
   "metadata": {},
   "outputs": [],
   "source": [
    "one_doc['Id']"
   ]
  },
  {
   "cell_type": "code",
   "execution_count": null,
   "id": "f464b6da",
   "metadata": {},
   "outputs": [],
   "source": [
    "one_doc['Employments']"
   ]
  },
  {
   "cell_type": "markdown",
   "id": "4ee160ad",
   "metadata": {},
   "source": [
    "To insert a document into a collection `teachers` we can use the `insert_one()` method:"
   ]
  },
  {
   "cell_type": "code",
   "execution_count": null,
   "id": "c2455179",
   "metadata": {},
   "outputs": [],
   "source": [
    "result = db['teachers'].insert_one(one_doc)\n",
    "result"
   ]
  },
  {
   "cell_type": "code",
   "execution_count": null,
   "id": "45c44574",
   "metadata": {},
   "outputs": [],
   "source": [
    "# was insert a successful?\n",
    "result.acknowledged"
   ]
  },
  {
   "cell_type": "code",
   "execution_count": null,
   "id": "32c7cbab",
   "metadata": {},
   "outputs": [],
   "source": [
    "# id of a new document in a collection\n",
    "result.inserted_id"
   ]
  },
  {
   "cell_type": "markdown",
   "id": "399d8436",
   "metadata": {},
   "source": [
    "We can check if documents is in our database:"
   ]
  },
  {
   "cell_type": "code",
   "execution_count": null,
   "id": "ead90c5b",
   "metadata": {},
   "outputs": [],
   "source": [
    "db.list_collection_names()"
   ]
  },
  {
   "cell_type": "markdown",
   "id": "69a150a7",
   "metadata": {},
   "source": [
    "Now we see an inserted document (with use `find_one()` method):"
   ]
  },
  {
   "cell_type": "code",
   "execution_count": null,
   "id": "a3ec3691",
   "metadata": {},
   "outputs": [],
   "source": [
    "db['teachers'].find_one()"
   ]
  },
  {
   "cell_type": "code",
   "execution_count": null,
   "id": "bd1a1181",
   "metadata": {},
   "outputs": [],
   "source": [
    "db['teachers'].count_documents({})"
   ]
  },
  {
   "cell_type": "markdown",
   "id": "3de22138",
   "metadata": {},
   "source": [
    "#### 4.3. Insert many documents at once"
   ]
  },
  {
   "cell_type": "code",
   "execution_count": null,
   "id": "e54aaf26",
   "metadata": {},
   "outputs": [],
   "source": [
    "len(data)"
   ]
  },
  {
   "cell_type": "code",
   "execution_count": null,
   "id": "2ef5db29",
   "metadata": {},
   "outputs": [],
   "source": [
    "data[:3]"
   ]
  },
  {
   "cell_type": "markdown",
   "id": "c6400e0e",
   "metadata": {},
   "source": [
    "We can also perform bulk insert operations with use of `insert_many()`:"
   ]
  },
  {
   "cell_type": "code",
   "execution_count": null,
   "id": "642d87ad",
   "metadata": {},
   "outputs": [],
   "source": [
    "# this will giva as an error\n",
    "# guess why?\n",
    "result = db['teachers'].insert_many(data)\n",
    "result.inserted_ids"
   ]
  },
  {
   "cell_type": "code",
   "execution_count": null,
   "id": "54a5e687",
   "metadata": {
    "tags": []
   },
   "outputs": [],
   "source": [
    "# this will do the job\n",
    "result = db['teachers'].insert_many(data[1:])\n",
    "result.inserted_ids"
   ]
  },
  {
   "cell_type": "code",
   "execution_count": null,
   "id": "5f10789f",
   "metadata": {},
   "outputs": [],
   "source": [
    "len(result.inserted_ids)"
   ]
  },
  {
   "cell_type": "markdown",
   "id": "28b445d5",
   "metadata": {},
   "source": [
    "#### 4.5. Basic manipulations"
   ]
  },
  {
   "cell_type": "markdown",
   "id": "70915897",
   "metadata": {},
   "source": [
    "Display first records in database:"
   ]
  },
  {
   "cell_type": "code",
   "execution_count": null,
   "id": "de39b770",
   "metadata": {},
   "outputs": [],
   "source": [
    "count = 0\n",
    "\n",
    "# NOTE that `find()` is a generator \n",
    "# so we need to stop it somehow \n",
    "\n",
    "for teacher in db['teachers'].find():\n",
    "    print(count)\n",
    "    print(teacher)\n",
    "    print('---' * 5)\n",
    "    count += 1\n",
    "    if count > 5: break\n",
    "print('the end')"
   ]
  },
  {
   "cell_type": "markdown",
   "id": "e356f832",
   "metadata": {},
   "source": [
    "Or we can use `find(...)` to find records by condition: "
   ]
  },
  {
   "cell_type": "code",
   "execution_count": null,
   "id": "1b0e635e",
   "metadata": {},
   "outputs": [],
   "source": [
    "for post in db['teachers'].find({'FullName': 'Гаршин Василий Владимирович'}):\n",
    "    print(post)"
   ]
  },
  {
   "cell_type": "markdown",
   "id": "66f55978",
   "metadata": {},
   "source": [
    "If we just want to know how many documents match a query we can perform a `count_documents()` operation instead of a full query:"
   ]
  },
  {
   "cell_type": "code",
   "execution_count": null,
   "id": "a719ba0c",
   "metadata": {},
   "outputs": [],
   "source": [
    "db['teachers'].count_documents({})"
   ]
  },
  {
   "cell_type": "markdown",
   "id": "e784de71",
   "metadata": {},
   "source": [
    "#### 4.6. Full text search"
   ]
  },
  {
   "cell_type": "markdown",
   "id": "1f464cc5",
   "metadata": {},
   "source": [
    "It is not so easy... Look [here](https://www.mongodb.com/docs/manual/core/link-text-indexes/#std-label-text-search-on-premises)"
   ]
  },
  {
   "cell_type": "code",
   "execution_count": null,
   "id": "c97de744",
   "metadata": {},
   "outputs": [],
   "source": [
    "db['teachers'].create_index(\n",
    "    [('FullName', pymongo.TEXT)], \n",
    "    name='search_index', \n",
    "    default_language='russian'\n",
    ")"
   ]
  },
  {
   "cell_type": "code",
   "execution_count": null,
   "id": "dd4d3a88",
   "metadata": {},
   "outputs": [],
   "source": [
    "result = db.teachers.find( { \"$text\": { \"$search\": \"Гаршин\" } } )"
   ]
  },
  {
   "cell_type": "code",
   "execution_count": null,
   "id": "c3832c6c",
   "metadata": {},
   "outputs": [],
   "source": [
    "list(result)"
   ]
  },
  {
   "cell_type": "markdown",
   "id": "9d9b81d4",
   "metadata": {},
   "source": [
    "### 5. Data analysis with Mongo"
   ]
  },
  {
   "cell_type": "markdown",
   "id": "62103d2d",
   "metadata": {},
   "source": [
    "Here are recommended resources to learn how to deal with data queries in Mongo:\n",
    "- official MongoDB [manual](https://www.mongodb.com/developer/languages/python/python-quickstart-aggregation/)\n",
    "- some [recommendations](https://developer.ibm.com/tutorials/analyze-json-data-in-mongodb-with-python/) from IBM\n",
    "- nice [playground](https://mongoplayground.net/) to improve your skills and test your queries"
   ]
  },
  {
   "cell_type": "code",
   "execution_count": null,
   "id": "4ad947b9",
   "metadata": {},
   "outputs": [],
   "source": [
    "data[:3]"
   ]
  },
  {
   "cell_type": "code",
   "execution_count": null,
   "id": "24e15758",
   "metadata": {},
   "outputs": [],
   "source": [
    "pipeline = [\n",
    "    {\n",
    "        \"$match\": {\n",
    "            \"FullName\": \"Гаршин Василий Владимирович\"\n",
    "        }\n",
    "    }\n",
    "]\n",
    "result = db.teachers.aggregate(pipeline)\n",
    "list(result)"
   ]
  },
  {
   "cell_type": "code",
   "execution_count": null,
   "id": "3cf7d929",
   "metadata": {},
   "outputs": [],
   "source": [
    "# full text search\n",
    "\n",
    "pipeline = [\n",
    "    {\n",
    "        \"$match\": { \"$text\": { \"$search\": \"Гаршин\" } }\n",
    "    }\n",
    "]\n",
    "result = db.teachers.aggregate(pipeline)\n",
    "list(result)"
   ]
  },
  {
   "cell_type": "code",
   "execution_count": null,
   "id": "c931347d",
   "metadata": {},
   "outputs": [],
   "source": [
    "pipeline = [\n",
    "    {\n",
    "      \"$sort\": {\n",
    "         \"FullName\": pymongo.DESCENDING\n",
    "      }\n",
    "   }\n",
    "]\n",
    "result = db.teachers.aggregate(pipeline)\n",
    "list(result)[:5]"
   ]
  },
  {
   "cell_type": "code",
   "execution_count": null,
   "id": "6eb22065",
   "metadata": {},
   "outputs": [],
   "source": [
    "# limited\n",
    "\n",
    "pipeline = [\n",
    "    {\n",
    "        \"$sort\": {\n",
    "            \"FullName\": pymongo.DESCENDING\n",
    "        }\n",
    "    },\n",
    "    {\n",
    "        \"$limit\": 1\n",
    "    }\n",
    "]\n",
    "result = db.teachers.aggregate(pipeline)\n",
    "list(result)"
   ]
  },
  {
   "cell_type": "code",
   "execution_count": null,
   "id": "1f5c449d",
   "metadata": {
    "tags": []
   },
   "outputs": [],
   "source": [
    "# name duplicates\n",
    "\n",
    "list(db.teachers.aggregate([\n",
    "    {\n",
    "        \"$group\": {\n",
    "            \"_id\": \"$FullName\",\n",
    "            \"count\": {\n",
    "                \"$sum\": 1\n",
    "            }\n",
    "        }\n",
    "    },\n",
    "    {\n",
    "        \"$sort\": {\n",
    "            \"count\": pymongo.DESCENDING\n",
    "        }\n",
    "    }\n",
    "]))"
   ]
  },
  {
   "cell_type": "code",
   "execution_count": null,
   "id": "c327d6f4",
   "metadata": {
    "tags": []
   },
   "outputs": [],
   "source": [
    "list(db.teachers.aggregate([\n",
    "    {\n",
    "        \"$unwind\": \"$Employments\"\n",
    "    },\n",
    "    {\n",
    "        \"$group\": {\n",
    "            \"_id\": \"$Employments.Position\",\n",
    "            \"count\": {\n",
    "                \"$sum\": 1\n",
    "            }\n",
    "        }\n",
    "    }\n",
    "]))"
   ]
  },
  {
   "cell_type": "code",
   "execution_count": null,
   "id": "9039b112",
   "metadata": {},
   "outputs": [],
   "source": [
    "# let'a add sorting and limit output\n",
    "\n",
    "result = db.teachers.aggregate([\n",
    "    {\n",
    "        \"$unwind\": \"$Employments\"\n",
    "    },\n",
    "    {\n",
    "        \"$group\": {\n",
    "            \"_id\": \"$Employments.Position\",\n",
    "            \"count\": {\n",
    "                \"$sum\": 1\n",
    "            }\n",
    "        }\n",
    "    },\n",
    "    {\n",
    "        \"$sort\": {\n",
    "            \"count\": pymongo.DESCENDING\n",
    "        }\n",
    "    },\n",
    "    {\n",
    "        \"$limit\": 10\n",
    "    }\n",
    "])\n",
    "result = list(result)\n",
    "result"
   ]
  },
  {
   "cell_type": "code",
   "execution_count": null,
   "id": "4d116d79",
   "metadata": {},
   "outputs": [],
   "source": [
    "!pip install matplotlib"
   ]
  },
  {
   "cell_type": "code",
   "execution_count": null,
   "id": "0e90832d",
   "metadata": {},
   "outputs": [],
   "source": [
    "import matplotlib.pyplot as plt\n",
    "\n",
    "labels = [x['_id'] for x in result]\n",
    "sizes = [x['count'] for x in result]\n",
    "\n",
    "plt.figure(figsize=(8, 8))\n",
    "plt.pie(sizes, labels=labels)\n",
    "plt.show()"
   ]
  },
  {
   "cell_type": "markdown",
   "id": "886cb5d6",
   "metadata": {},
   "source": [
    "### 6. Relations in non-relational MongoDB"
   ]
  },
  {
   "cell_type": "code",
   "execution_count": null,
   "id": "7a76b0c6",
   "metadata": {},
   "outputs": [],
   "source": [
    "one_doc = {\n",
    "    'Id': 2168123, \n",
    "    'FullName': 'Гаршин Василий Владимирович', \n",
    "    'Course': \"Introduction to Big Data Modern Technologies\"\n",
    "}"
   ]
  },
  {
   "cell_type": "code",
   "execution_count": null,
   "id": "f429b3a5",
   "metadata": {},
   "outputs": [],
   "source": [
    "db['courses'].insert_one(one_doc)"
   ]
  },
  {
   "cell_type": "code",
   "execution_count": null,
   "id": "424d4a4f",
   "metadata": {},
   "outputs": [],
   "source": [
    "db.list_collection_names()"
   ]
  },
  {
   "cell_type": "code",
   "execution_count": null,
   "id": "2fae11e0",
   "metadata": {
    "tags": []
   },
   "outputs": [],
   "source": [
    "# all documents with related data\n",
    "\n",
    "pipeline = [\n",
    "    {\n",
    "        \"$lookup\": {\n",
    "            \"from\": \"courses\",       # this `database` or `collection` we want to join\n",
    "            \"localField\": \"Id\",      # that will be one field to join\n",
    "            \"foreignField\": \"Id\",    # and that will be the foreign field \n",
    "            \"as\": \"related_courses\", # new field with data joined\n",
    "        }\n",
    "    }\n",
    "]\n",
    "result = db.teachers.aggregate(pipeline)\n",
    "list(result)"
   ]
  },
  {
   "cell_type": "code",
   "execution_count": null,
   "id": "e7c59142",
   "metadata": {},
   "outputs": [],
   "source": [
    "pipeline = [\n",
    "    {\n",
    "        \"$lookup\": {\n",
    "            \"from\": \"courses\", \n",
    "            \"localField\": \"Id\", \n",
    "            \"foreignField\": \"Id\", \n",
    "            \"as\": \"related_courses\",\n",
    "        }\n",
    "    },\n",
    "    {\n",
    "        \"$match\": {\n",
    "        \"FullName\": \"Гаршин Василий Владимирович\"\n",
    "        }\n",
    "    }\n",
    "]\n",
    "result = db.teachers.aggregate(pipeline)\n",
    "list(result)"
   ]
  },
  {
   "cell_type": "markdown",
   "id": "22d4a6f3",
   "metadata": {},
   "source": [
    "### 7. Home assignment"
   ]
  },
  {
   "cell_type": "code",
   "execution_count": null,
   "id": "2629d693",
   "metadata": {},
   "outputs": [],
   "source": [
    "!ls -la ~/__DATA/IBDT_Spring_2024/topic_2"
   ]
  },
  {
   "cell_type": "markdown",
   "id": "88aa8797",
   "metadata": {},
   "source": [
    "Your home assignment for this part is:\n",
    "1. Take the large file `events-2022-08-29-2023-02-06-2302022348.json` (about 67 MB but it is ok)\n",
    "2. Load that file as collection (or table) in database in MongoDB (let's call that database `homedb`)\n",
    "3. The data contains SPBU timetable. Briefly describe the data you have loaded (key fields? how many documents are in it?). It is not required to describe data in details. __NOTE:__ the data itself is in Russian, but you do not need the knowledge of Russian to name the fields and undercover their purposes\n",
    "4. Build aggregations to answer following questions below\n",
    "\n",
    "Questions to answer with use of match and aggregation techniques:\n",
    "- are there courses tha last all day? (__HINT__: look at `AllDay` field and use `match` to find desired values)\n",
    "- are there courses with no teachers? (__HINT:__ look at `HasEducators` field)\n",
    "- find first 5 high loaded time intervals within day (__HINT__: \"high loaded\" means that most of courses scheduled in that time intervals, use `TimeIntervalString` field and `$group` function)\n",
    "\n",
    "__NOTE:__ use of JavaScript for data loading pipeline to MongoDB would be a plus"
   ]
  },
  {
   "cell_type": "code",
   "execution_count": null,
   "id": "a26bf63f",
   "metadata": {},
   "outputs": [],
   "source": []
  }
 ],
 "metadata": {
  "kernelspec": {
   "display_name": "Python 3 (ipykernel)",
   "language": "python",
   "name": "python3"
  },
  "language_info": {
   "codemirror_mode": {
    "name": "ipython",
    "version": 3
   },
   "file_extension": ".py",
   "mimetype": "text/x-python",
   "name": "python",
   "nbconvert_exporter": "python",
   "pygments_lexer": "ipython3",
   "version": "3.10.9"
  },
  "widgets": {
   "application/vnd.jupyter.widget-state+json": {
    "state": {},
    "version_major": 2,
    "version_minor": 0
   }
  }
 },
 "nbformat": 4,
 "nbformat_minor": 5
}
