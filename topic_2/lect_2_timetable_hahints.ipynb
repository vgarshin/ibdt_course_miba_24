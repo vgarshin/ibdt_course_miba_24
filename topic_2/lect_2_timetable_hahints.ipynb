{
 "cells": [
  {
   "cell_type": "markdown",
   "id": "e85c8fcd",
   "metadata": {},
   "source": [
    "# Introduction to Big Data Modern Technologies course"
   ]
  },
  {
   "cell_type": "markdown",
   "id": "85843ce8",
   "metadata": {},
   "source": [
    "## TOPIC 2: NoSQL databases practice - MongoDB\n",
    "### Home assignment: hints to start"
   ]
  },
  {
   "cell_type": "markdown",
   "id": "89e1f70c",
   "metadata": {},
   "source": [
    "### 1. Libraries"
   ]
  },
  {
   "cell_type": "code",
   "execution_count": null,
   "id": "5139afed",
   "metadata": {
    "tags": []
   },
   "outputs": [],
   "source": [
    "import os\n",
    "import sys\n",
    "import json\n",
    "import pymongo"
   ]
  },
  {
   "cell_type": "code",
   "execution_count": null,
   "id": "50c9c569",
   "metadata": {
    "tags": []
   },
   "outputs": [],
   "source": [
    "from pymongo import MongoClient\n",
    "\n",
    "client = MongoClient() # default setting\n",
    "client"
   ]
  },
  {
   "cell_type": "markdown",
   "id": "e4fabd8d",
   "metadata": {},
   "source": [
    "### 2. Load data"
   ]
  },
  {
   "cell_type": "code",
   "execution_count": null,
   "id": "46935fb4",
   "metadata": {
    "tags": []
   },
   "outputs": [],
   "source": [
    "!ls -la ~/__DATA/IBDT_Spring_2024/topic_2"
   ]
  },
  {
   "cell_type": "code",
   "execution_count": null,
   "id": "68c64307",
   "metadata": {
    "tags": []
   },
   "outputs": [],
   "source": [
    "file_path = '/home/jovyan/__DATA/IBDT_Spring_2024/topic_2/events-2024-01-01-2024-08-01-202402110056.json'\n",
    "with open(file_path, 'r') as file:\n",
    "    data = json.load(file)"
   ]
  },
  {
   "cell_type": "code",
   "execution_count": null,
   "id": "fc54eca4",
   "metadata": {
    "tags": []
   },
   "outputs": [],
   "source": [
    "type(data)"
   ]
  },
  {
   "cell_type": "code",
   "execution_count": null,
   "id": "f67512b8",
   "metadata": {
    "tags": []
   },
   "outputs": [],
   "source": [
    "data[0]"
   ]
  },
  {
   "cell_type": "code",
   "execution_count": null,
   "id": "33390c35",
   "metadata": {
    "tags": []
   },
   "outputs": [],
   "source": [
    "print('total records:', len(data))"
   ]
  },
  {
   "cell_type": "code",
   "execution_count": null,
   "id": "4d471a26",
   "metadata": {
    "tags": []
   },
   "outputs": [],
   "source": [
    "db = client['hadb']"
   ]
  },
  {
   "cell_type": "code",
   "execution_count": null,
   "id": "479b6307",
   "metadata": {
    "tags": []
   },
   "outputs": [],
   "source": [
    "result = db['tt'].insert_many(data)\n",
    "result.inserted_ids[:3]"
   ]
  },
  {
   "cell_type": "code",
   "execution_count": null,
   "id": "1c9d518c",
   "metadata": {
    "tags": []
   },
   "outputs": [],
   "source": [
    "len(result.inserted_ids)"
   ]
  },
  {
   "cell_type": "code",
   "execution_count": null,
   "id": "cd516224-657d-46d3-a5ac-e7228814506d",
   "metadata": {
    "tags": []
   },
   "outputs": [],
   "source": [
    "db['tt'].find_one()"
   ]
  },
  {
   "cell_type": "code",
   "execution_count": null,
   "id": "7d72c0ea-ab66-4ee0-97fa-396eff73f2f6",
   "metadata": {},
   "outputs": [],
   "source": []
  }
 ],
 "metadata": {
  "kernelspec": {
   "display_name": "Python 3 (ipykernel)",
   "language": "python",
   "name": "python3"
  },
  "language_info": {
   "codemirror_mode": {
    "name": "ipython",
    "version": 3
   },
   "file_extension": ".py",
   "mimetype": "text/x-python",
   "name": "python",
   "nbconvert_exporter": "python",
   "pygments_lexer": "ipython3",
   "version": "3.10.9"
  }
 },
 "nbformat": 4,
 "nbformat_minor": 5
}
