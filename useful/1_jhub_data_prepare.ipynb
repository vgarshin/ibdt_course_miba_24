{
 "cells": [
  {
   "cell_type": "code",
   "execution_count": null,
   "id": "47ba8e55",
   "metadata": {},
   "outputs": [],
   "source": [
    "import os\n",
    "import sys\n",
    "import json\n",
    "import numpy as np\n",
    "import pandas as pd\n",
    "from pyspark import SparkContext, SparkConf\n",
    "from pyspark.sql import SparkSession\n",
    "from pyspark.sql import functions as F\n",
    "from pyspark.sql.types import *\n",
    "from pyspark.sql.functions import udf, struct, countDistinct\n",
    "import multiprocessing\n",
    "\n",
    "pd.set_option('display.max_columns', None)"
   ]
  },
  {
   "cell_type": "code",
   "execution_count": null,
   "id": "5c88eb4f",
   "metadata": {},
   "outputs": [],
   "source": [
    "def access_data(file_path):\n",
    "    access_data = {}\n",
    "    try:\n",
    "        with open(file_path) as file:\n",
    "            access_data = json.load(file)\n",
    "        print(f'credentials from file {file_path} - loaded')\n",
    "    except Exception as e:\n",
    "        print(f'credentials from file {file_path} - {e}')\n",
    "    return access_data\n",
    "\n",
    "access_s3_data = access_data('/home/jovyan/dataload/access_s3.json')\n",
    "print(access_s3_data)"
   ]
  },
  {
   "cell_type": "code",
   "execution_count": null,
   "id": "ad7ab000",
   "metadata": {},
   "outputs": [],
   "source": [
    "conf = SparkConf()\n",
    "conf.set('spark.master', 'local[8]')\n",
    "conf.set('spark.driver.memory', '16G')\n",
    "conf.set('spark.driver.maxResultSize', '2G')\n",
    "sc = SparkContext(conf=conf)\n",
    "spark = SparkSession(sc)\n",
    "spark._jsc.hadoopConfiguration().set('fs.s3a.access.key', access_s3_data['aws_access_key_id'])\n",
    "spark._jsc.hadoopConfiguration().set('fs.s3a.secret.key', access_s3_data['aws_secret_access_key'])\n",
    "spark._jsc.hadoopConfiguration().set('fs.s3a.impl','org.apache.hadoop.fs.s3a.S3AFileSystem')\n",
    "spark._jsc.hadoopConfiguration().set('fs.s3a.multipart.size', '104857600')\n",
    "spark._jsc.hadoopConfiguration().set('fs.s3a.block.size', '33554432')\n",
    "spark._jsc.hadoopConfiguration().set('fs.s3a.threads.max', '256')\n",
    "spark._jsc.hadoopConfiguration().set('fs.s3a.endpoint', 'http://storage.yandexcloud.net')\n",
    "spark._jsc.hadoopConfiguration().set('fs.s3a.aws.credentials.provider', \n",
    "                                     'org.apache.hadoop.fs.s3a.SimpleAWSCredentialsProvider')\n",
    "spark"
   ]
  },
  {
   "cell_type": "code",
   "execution_count": null,
   "id": "bc95eb5a",
   "metadata": {},
   "outputs": [],
   "source": [
    "BUCKET = 'rawdata-test-logs-jhub'"
   ]
  },
  {
   "cell_type": "code",
   "execution_count": null,
   "id": "84ca1d0e",
   "metadata": {},
   "outputs": [],
   "source": [
    "%%time\n",
    "\n",
    "mask_files = '{}/{}/{}/{}/{}/*/*'.format(\n",
    "    'fluent-bit-logs/kube.var.log.containers.hub*',\n",
    "    '2023',    # year\n",
    "    '*',      # month\n",
    "    '*',       # day\n",
    "    '*'        # hour\n",
    ")\n",
    "sdf = spark.read.json(f's3a://{BUCKET}/{mask_files}')\n",
    "sdf.count()"
   ]
  },
  {
   "cell_type": "code",
   "execution_count": null,
   "id": "5c24cb1b",
   "metadata": {},
   "outputs": [],
   "source": [
    "sdf.limit(5).toPandas()"
   ]
  },
  {
   "cell_type": "code",
   "execution_count": null,
   "id": "33f2b493",
   "metadata": {},
   "outputs": [],
   "source": [
    "sdf.printSchema()"
   ]
  },
  {
   "cell_type": "code",
   "execution_count": null,
   "id": "dbc99a50",
   "metadata": {},
   "outputs": [],
   "source": [
    "df = sdf.toPandas()"
   ]
  },
  {
   "cell_type": "code",
   "execution_count": null,
   "id": "3d9bfaa5",
   "metadata": {},
   "outputs": [],
   "source": [
    "df.info()"
   ]
  },
  {
   "cell_type": "code",
   "execution_count": null,
   "id": "2d478217",
   "metadata": {},
   "outputs": [],
   "source": [
    "df.to_csv('jhub_logs.csv', sep=';', index=False)"
   ]
  },
  {
   "cell_type": "code",
   "execution_count": null,
   "id": "3d075dce",
   "metadata": {},
   "outputs": [],
   "source": []
  }
 ],
 "metadata": {
  "kernelspec": {
   "display_name": "Python 3 (ipykernel)",
   "language": "python",
   "name": "python3"
  },
  "language_info": {
   "codemirror_mode": {
    "name": "ipython",
    "version": 3
   },
   "file_extension": ".py",
   "mimetype": "text/x-python",
   "name": "python",
   "nbconvert_exporter": "python",
   "pygments_lexer": "ipython3",
   "version": "3.10.9"
  },
  "widgets": {
   "application/vnd.jupyter.widget-state+json": {
    "state": {},
    "version_major": 2,
    "version_minor": 0
   }
  }
 },
 "nbformat": 4,
 "nbformat_minor": 5
}
